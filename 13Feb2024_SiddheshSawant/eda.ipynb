{
  "cells": [
    {
      "cell_type": "markdown",
      "id": "fc0653ac",
      "metadata": {
        "id": "fc0653ac"
      },
      "source": [
        "# Exploratory data analysis"
      ]
    },
    {
      "cell_type": "code",
      "execution_count": 1,
      "id": "cb712a91",
      "metadata": {
        "id": "cb712a91"
      },
      "outputs": [],
      "source": [
        "import pandas as pd #to handling dataframes\n",
        "import numpy as np\n",
        "\n",
        "import seaborn as sns   #for plotting graphs\n",
        "import matplotlib.pyplot as plt\n",
        "\n",
        "from sklearn.preprocessing import LabelEncoder  # for encoding string categorical to numeric catgorical\n",
        "from imblearn.over_sampling import SMOTE   #to handle imbalaced dataset\n"
      ]
    },
    {
      "cell_type": "code",
      "execution_count": 2,
      "id": "a6bbfd3f",
      "metadata": {
        "id": "a6bbfd3f"
      },
      "outputs": [],
      "source": [
        "import warnings\n",
        "warnings.filterwarnings('ignore')"
      ]
    },
    {
      "cell_type": "code",
      "execution_count": 4,
      "id": "5c4ee7d7",
      "metadata": {
        "id": "5c4ee7d7"
      },
      "outputs": [],
      "source": [
        "df = pd.read_csv('historic.csv')"
      ]
    },
    {
      "cell_type": "code",
      "execution_count": null,
      "id": "abe2c6ae",
      "metadata": {
        "id": "abe2c6ae",
        "outputId": "f07d71d6-c6f1-44a3-a783-f3a6b70f321c"
      },
      "outputs": [
        {
          "data": {
            "text/html": [
              "<div>\n",
              "<style scoped>\n",
              "    .dataframe tbody tr th:only-of-type {\n",
              "        vertical-align: middle;\n",
              "    }\n",
              "\n",
              "    .dataframe tbody tr th {\n",
              "        vertical-align: top;\n",
              "    }\n",
              "\n",
              "    .dataframe thead th {\n",
              "        text-align: right;\n",
              "    }\n",
              "</style>\n",
              "<table border=\"1\" class=\"dataframe\">\n",
              "  <thead>\n",
              "    <tr style=\"text-align: right;\">\n",
              "      <th></th>\n",
              "      <th>item_no</th>\n",
              "      <th>category</th>\n",
              "      <th>main_promotion</th>\n",
              "      <th>color</th>\n",
              "      <th>stars</th>\n",
              "      <th>success_indicator</th>\n",
              "    </tr>\n",
              "  </thead>\n",
              "  <tbody>\n",
              "    <tr>\n",
              "      <th>0</th>\n",
              "      <td>739157</td>\n",
              "      <td>Tunic</td>\n",
              "      <td>Catalog</td>\n",
              "      <td>Green</td>\n",
              "      <td>3.1</td>\n",
              "      <td>flop</td>\n",
              "    </tr>\n",
              "    <tr>\n",
              "      <th>1</th>\n",
              "      <td>591846</td>\n",
              "      <td>Hoodie</td>\n",
              "      <td>Category_Highlight</td>\n",
              "      <td>Red</td>\n",
              "      <td>1.5</td>\n",
              "      <td>flop</td>\n",
              "    </tr>\n",
              "    <tr>\n",
              "      <th>2</th>\n",
              "      <td>337574</td>\n",
              "      <td>Sweatshirt</td>\n",
              "      <td>Catalog</td>\n",
              "      <td>Red</td>\n",
              "      <td>4.4</td>\n",
              "      <td>top</td>\n",
              "    </tr>\n",
              "    <tr>\n",
              "      <th>3</th>\n",
              "      <td>401933</td>\n",
              "      <td>Polo-Shirt</td>\n",
              "      <td>Category_Highlight</td>\n",
              "      <td>Blue</td>\n",
              "      <td>3.1</td>\n",
              "      <td>flop</td>\n",
              "    </tr>\n",
              "    <tr>\n",
              "      <th>4</th>\n",
              "      <td>812151</td>\n",
              "      <td>Hoodie</td>\n",
              "      <td>Category_Highlight</td>\n",
              "      <td>Green</td>\n",
              "      <td>4.1</td>\n",
              "      <td>top</td>\n",
              "    </tr>\n",
              "  </tbody>\n",
              "</table>\n",
              "</div>"
            ],
            "text/plain": [
              "   item_no    category      main_promotion  color  stars success_indicator\n",
              "0   739157       Tunic             Catalog  Green    3.1              flop\n",
              "1   591846      Hoodie  Category_Highlight    Red    1.5              flop\n",
              "2   337574  Sweatshirt             Catalog    Red    4.4               top\n",
              "3   401933  Polo-Shirt  Category_Highlight   Blue    3.1              flop\n",
              "4   812151      Hoodie  Category_Highlight  Green    4.1               top"
            ]
          },
          "execution_count": 4,
          "metadata": {},
          "output_type": "execute_result"
        }
      ],
      "source": [
        "df.head()"
      ]
    },
    {
      "cell_type": "markdown",
      "id": "72365d48",
      "metadata": {
        "id": "72365d48"
      },
      "source": [
        "# CHECK FOR NULL VALUES IN DATASET\n"
      ]
    },
    {
      "cell_type": "code",
      "execution_count": 5,
      "id": "dd6f6e64",
      "metadata": {
        "colab": {
          "base_uri": "https://localhost:8080/"
        },
        "id": "dd6f6e64",
        "outputId": "bdd82333-a083-4caa-e34e-acdb7918f5e4"
      },
      "outputs": [
        {
          "output_type": "execute_result",
          "data": {
            "text/plain": [
              "item_no  category  main_promotion  color  stars  success_indicator\n",
              "False    False     False           False  False  False                8000\n",
              "dtype: int64"
            ]
          },
          "metadata": {},
          "execution_count": 5
        }
      ],
      "source": [
        "df.isnull().value_counts()  # NO null values present in dataframe"
      ]
    },
    {
      "cell_type": "code",
      "execution_count": 6,
      "id": "b015963d",
      "metadata": {
        "colab": {
          "base_uri": "https://localhost:8080/"
        },
        "id": "b015963d",
        "outputId": "3fd80fb0-5f48-438d-91a5-f05b44e0f241"
      },
      "outputs": [
        {
          "output_type": "stream",
          "name": "stdout",
          "text": [
            "<class 'pandas.core.frame.DataFrame'>\n",
            "RangeIndex: 8000 entries, 0 to 7999\n",
            "Data columns (total 6 columns):\n",
            " #   Column             Non-Null Count  Dtype  \n",
            "---  ------             --------------  -----  \n",
            " 0   item_no            8000 non-null   int64  \n",
            " 1   category           8000 non-null   object \n",
            " 2   main_promotion     8000 non-null   object \n",
            " 3   color              8000 non-null   object \n",
            " 4   stars              8000 non-null   float64\n",
            " 5   success_indicator  8000 non-null   object \n",
            "dtypes: float64(1), int64(1), object(4)\n",
            "memory usage: 375.1+ KB\n"
          ]
        }
      ],
      "source": [
        "df.info()"
      ]
    },
    {
      "cell_type": "markdown",
      "id": "710fa50f",
      "metadata": {
        "id": "710fa50f"
      },
      "source": [
        "# CHECK FOR DUPLICATED VALUES IN DATASET"
      ]
    },
    {
      "cell_type": "code",
      "execution_count": 7,
      "id": "a00af423",
      "metadata": {
        "colab": {
          "base_uri": "https://localhost:8080/"
        },
        "id": "a00af423",
        "outputId": "c24670f1-d6c2-4369-f2fc-941b7defec9e"
      },
      "outputs": [
        {
          "output_type": "execute_result",
          "data": {
            "text/plain": [
              "False    8000\n",
              "dtype: int64"
            ]
          },
          "metadata": {},
          "execution_count": 7
        }
      ],
      "source": [
        "df.duplicated().value_counts() # NO duplicates present in dataframe"
      ]
    },
    {
      "cell_type": "code",
      "execution_count": 8,
      "id": "804e87a7",
      "metadata": {
        "id": "804e87a7"
      },
      "outputs": [],
      "source": []
    },
    {
      "cell_type": "markdown",
      "id": "0b226221",
      "metadata": {
        "id": "0b226221"
      },
      "source": [
        "# Analysis on : item_no feature"
      ]
    },
    {
      "cell_type": "code",
      "execution_count": 9,
      "id": "e1a2c483",
      "metadata": {
        "colab": {
          "base_uri": "https://localhost:8080/"
        },
        "id": "e1a2c483",
        "outputId": "7472f9cc-ddc7-461d-9b80-c4f6c9fee21a"
      },
      "outputs": [
        {
          "output_type": "execute_result",
          "data": {
            "text/plain": [
              "count      8000.000000\n",
              "mean     546474.338375\n",
              "std      256513.463874\n",
              "min      100171.000000\n",
              "25%      325001.500000\n",
              "50%      547081.000000\n",
              "75%      764312.250000\n",
              "max      989740.000000\n",
              "Name: item_no, dtype: float64"
            ]
          },
          "metadata": {},
          "execution_count": 9
        }
      ],
      "source": [
        "df['item_no'].describe()"
      ]
    },
    {
      "cell_type": "code",
      "execution_count": 10,
      "id": "523be48f",
      "metadata": {
        "colab": {
          "base_uri": "https://localhost:8080/"
        },
        "id": "523be48f",
        "outputId": "e924ed67-660b-4b61-d36f-e6a6acb8813c"
      },
      "outputs": [
        {
          "output_type": "execute_result",
          "data": {
            "text/plain": [
              "False    8000\n",
              "Name: item_no, dtype: int64"
            ]
          },
          "metadata": {},
          "execution_count": 10
        }
      ],
      "source": [
        "df['item_no'].duplicated().value_counts()"
      ]
    },
    {
      "cell_type": "markdown",
      "id": "1dc3a52f",
      "metadata": {
        "id": "1dc3a52f"
      },
      "source": [
        "As 'item_no' feature having high variance or all values are unique we can drop this feature as it will not help us in\n",
        "     predicting output"
      ]
    },
    {
      "cell_type": "code",
      "execution_count": 11,
      "id": "be15ff1f",
      "metadata": {
        "id": "be15ff1f"
      },
      "outputs": [],
      "source": [
        "df = df[['category','main_promotion','color','stars','success_indicator']]"
      ]
    },
    {
      "cell_type": "code",
      "execution_count": null,
      "id": "a8e6c65e",
      "metadata": {
        "id": "a8e6c65e",
        "outputId": "7e547bb0-4421-4339-97d9-d03da1453b4c"
      },
      "outputs": [
        {
          "data": {
            "text/html": [
              "<div>\n",
              "<style scoped>\n",
              "    .dataframe tbody tr th:only-of-type {\n",
              "        vertical-align: middle;\n",
              "    }\n",
              "\n",
              "    .dataframe tbody tr th {\n",
              "        vertical-align: top;\n",
              "    }\n",
              "\n",
              "    .dataframe thead th {\n",
              "        text-align: right;\n",
              "    }\n",
              "</style>\n",
              "<table border=\"1\" class=\"dataframe\">\n",
              "  <thead>\n",
              "    <tr style=\"text-align: right;\">\n",
              "      <th></th>\n",
              "      <th>category</th>\n",
              "      <th>main_promotion</th>\n",
              "      <th>color</th>\n",
              "      <th>stars</th>\n",
              "      <th>success_indicator</th>\n",
              "    </tr>\n",
              "  </thead>\n",
              "  <tbody>\n",
              "    <tr>\n",
              "      <th>0</th>\n",
              "      <td>Tunic</td>\n",
              "      <td>Catalog</td>\n",
              "      <td>Green</td>\n",
              "      <td>3.1</td>\n",
              "      <td>flop</td>\n",
              "    </tr>\n",
              "    <tr>\n",
              "      <th>1</th>\n",
              "      <td>Hoodie</td>\n",
              "      <td>Category_Highlight</td>\n",
              "      <td>Red</td>\n",
              "      <td>1.5</td>\n",
              "      <td>flop</td>\n",
              "    </tr>\n",
              "    <tr>\n",
              "      <th>2</th>\n",
              "      <td>Sweatshirt</td>\n",
              "      <td>Catalog</td>\n",
              "      <td>Red</td>\n",
              "      <td>4.4</td>\n",
              "      <td>top</td>\n",
              "    </tr>\n",
              "    <tr>\n",
              "      <th>3</th>\n",
              "      <td>Polo-Shirt</td>\n",
              "      <td>Category_Highlight</td>\n",
              "      <td>Blue</td>\n",
              "      <td>3.1</td>\n",
              "      <td>flop</td>\n",
              "    </tr>\n",
              "    <tr>\n",
              "      <th>4</th>\n",
              "      <td>Hoodie</td>\n",
              "      <td>Category_Highlight</td>\n",
              "      <td>Green</td>\n",
              "      <td>4.1</td>\n",
              "      <td>top</td>\n",
              "    </tr>\n",
              "  </tbody>\n",
              "</table>\n",
              "</div>"
            ],
            "text/plain": [
              "     category      main_promotion  color  stars success_indicator\n",
              "0       Tunic             Catalog  Green    3.1              flop\n",
              "1      Hoodie  Category_Highlight    Red    1.5              flop\n",
              "2  Sweatshirt             Catalog    Red    4.4               top\n",
              "3  Polo-Shirt  Category_Highlight   Blue    3.1              flop\n",
              "4      Hoodie  Category_Highlight  Green    4.1               top"
            ]
          },
          "execution_count": 12,
          "metadata": {},
          "output_type": "execute_result"
        }
      ],
      "source": [
        "df.head()"
      ]
    },
    {
      "cell_type": "markdown",
      "id": "88b956b7",
      "metadata": {
        "id": "88b956b7"
      },
      "source": [
        "# Analysis on category feature"
      ]
    },
    {
      "cell_type": "code",
      "execution_count": 13,
      "id": "f5a2af1a",
      "metadata": {
        "scrolled": true,
        "colab": {
          "base_uri": "https://localhost:8080/"
        },
        "id": "f5a2af1a",
        "outputId": "9d900a35-27ca-4e44-82de-9e9c53425757"
      },
      "outputs": [
        {
          "output_type": "execute_result",
          "data": {
            "text/plain": [
              "Tunic         1650\n",
              "Polo-Shirt    1546\n",
              "T-Shirt       1459\n",
              "Sweatshirt    1360\n",
              "Blouse        1246\n",
              "Hoodie         739\n",
              "Name: category, dtype: int64"
            ]
          },
          "metadata": {},
          "execution_count": 13
        }
      ],
      "source": [
        "df['category'].value_counts()"
      ]
    },
    {
      "cell_type": "markdown",
      "id": "a4b3f5f4",
      "metadata": {
        "id": "a4b3f5f4"
      },
      "source": [
        "There are 6 categories of product namely Tunic, Polo-Shirt, T-Shirt, Sweatshirt, Blouse, Hoodie\n",
        "Here as features datatype is categorical we have to convert it into numerical datatype in feature engineering\n",
        "as our model understand numerical values only"
      ]
    },
    {
      "cell_type": "code",
      "execution_count": 14,
      "id": "2e69c3c8",
      "metadata": {
        "colab": {
          "base_uri": "https://localhost:8080/"
        },
        "id": "2e69c3c8",
        "outputId": "a28ed23e-6a38-4b36-b8a0-f7f02620a9e0"
      },
      "outputs": [
        {
          "output_type": "stream",
          "name": "stdout",
          "text": [
            "[5 1 3 ... 4 0 3]\n"
          ]
        }
      ],
      "source": [
        "from sklearn.preprocessing import LabelEncoder    # here we have encoded 6 product category into num using label encoder\n",
        "le1 = LabelEncoder()\n",
        "encoded_category1 = le1.fit_transform(df['category'])\n",
        "print(encoded_category1)"
      ]
    },
    {
      "cell_type": "code",
      "execution_count": 15,
      "id": "c456f7cc",
      "metadata": {
        "id": "c456f7cc"
      },
      "outputs": [],
      "source": [
        "df['category'] = encoded_category1   # converting category in text to numbers / encoded once"
      ]
    },
    {
      "cell_type": "code",
      "execution_count": 16,
      "id": "f2789292",
      "metadata": {
        "colab": {
          "base_uri": "https://localhost:8080/"
        },
        "id": "f2789292",
        "outputId": "788eb96d-3ee6-42ba-f1db-70fbeb73dac0"
      },
      "outputs": [
        {
          "output_type": "execute_result",
          "data": {
            "text/plain": [
              "array(['Blouse', 'Hoodie', 'Polo-Shirt', 'Sweatshirt', 'T-Shirt', 'Tunic'],\n",
              "      dtype=object)"
            ]
          },
          "metadata": {},
          "execution_count": 16
        }
      ],
      "source": [
        "encoded_categories1 = le1.classes_\n",
        "encoded_categories1"
      ]
    },
    {
      "cell_type": "code",
      "execution_count": 17,
      "id": "98b4dedb",
      "metadata": {
        "scrolled": true,
        "colab": {
          "base_uri": "https://localhost:8080/"
        },
        "id": "98b4dedb",
        "outputId": "7ab1d954-9a0e-4c0e-f59c-173583a1a80b"
      },
      "outputs": [
        {
          "output_type": "stream",
          "name": "stdout",
          "text": [
            "Encoded Category: Blouse, Encoded Value: 0\n",
            "Encoded Category: Hoodie, Encoded Value: 1\n",
            "Encoded Category: Polo-Shirt, Encoded Value: 2\n",
            "Encoded Category: Sweatshirt, Encoded Value: 3\n",
            "Encoded Category: T-Shirt, Encoded Value: 4\n",
            "Encoded Category: Tunic, Encoded Value: 5\n"
          ]
        }
      ],
      "source": [
        "encoded_values1 = le1.transform(encoded_categories1)\n",
        "category_mapping1 = dict(zip(encoded_categories1, encoded_values1)) # dictionary mapping the names to the numerical values\n",
        "for category1, value1 in category_mapping1.items():\n",
        "    print(f\"Encoded Category: {category1}, Encoded Value: {value1}\")  # encoded value with its original name"
      ]
    },
    {
      "cell_type": "code",
      "execution_count": 18,
      "id": "ba17661c",
      "metadata": {
        "id": "ba17661c"
      },
      "outputs": [],
      "source": [
        "# Bivarite of category and success_indicator feature"
      ]
    },
    {
      "cell_type": "code",
      "execution_count": 19,
      "id": "066b7ac5",
      "metadata": {
        "colab": {
          "base_uri": "https://localhost:8080/",
          "height": 269
        },
        "id": "066b7ac5",
        "outputId": "59b7f167-259a-4639-c2fd-202ef780ea89"
      },
      "outputs": [
        {
          "output_type": "execute_result",
          "data": {
            "text/plain": [
              "success_indicator  flop   top\n",
              "category                     \n",
              "0                   363   883\n",
              "1                   258   481\n",
              "2                   817   729\n",
              "3                   453   907\n",
              "4                   271  1188\n",
              "5                   653   997"
            ],
            "text/html": [
              "\n",
              "  <div id=\"df-d865cdbc-2f43-4f5d-9986-f8cb0056541d\" class=\"colab-df-container\">\n",
              "    <div>\n",
              "<style scoped>\n",
              "    .dataframe tbody tr th:only-of-type {\n",
              "        vertical-align: middle;\n",
              "    }\n",
              "\n",
              "    .dataframe tbody tr th {\n",
              "        vertical-align: top;\n",
              "    }\n",
              "\n",
              "    .dataframe thead th {\n",
              "        text-align: right;\n",
              "    }\n",
              "</style>\n",
              "<table border=\"1\" class=\"dataframe\">\n",
              "  <thead>\n",
              "    <tr style=\"text-align: right;\">\n",
              "      <th>success_indicator</th>\n",
              "      <th>flop</th>\n",
              "      <th>top</th>\n",
              "    </tr>\n",
              "    <tr>\n",
              "      <th>category</th>\n",
              "      <th></th>\n",
              "      <th></th>\n",
              "    </tr>\n",
              "  </thead>\n",
              "  <tbody>\n",
              "    <tr>\n",
              "      <th>0</th>\n",
              "      <td>363</td>\n",
              "      <td>883</td>\n",
              "    </tr>\n",
              "    <tr>\n",
              "      <th>1</th>\n",
              "      <td>258</td>\n",
              "      <td>481</td>\n",
              "    </tr>\n",
              "    <tr>\n",
              "      <th>2</th>\n",
              "      <td>817</td>\n",
              "      <td>729</td>\n",
              "    </tr>\n",
              "    <tr>\n",
              "      <th>3</th>\n",
              "      <td>453</td>\n",
              "      <td>907</td>\n",
              "    </tr>\n",
              "    <tr>\n",
              "      <th>4</th>\n",
              "      <td>271</td>\n",
              "      <td>1188</td>\n",
              "    </tr>\n",
              "    <tr>\n",
              "      <th>5</th>\n",
              "      <td>653</td>\n",
              "      <td>997</td>\n",
              "    </tr>\n",
              "  </tbody>\n",
              "</table>\n",
              "</div>\n",
              "    <div class=\"colab-df-buttons\">\n",
              "\n",
              "  <div class=\"colab-df-container\">\n",
              "    <button class=\"colab-df-convert\" onclick=\"convertToInteractive('df-d865cdbc-2f43-4f5d-9986-f8cb0056541d')\"\n",
              "            title=\"Convert this dataframe to an interactive table.\"\n",
              "            style=\"display:none;\">\n",
              "\n",
              "  <svg xmlns=\"http://www.w3.org/2000/svg\" height=\"24px\" viewBox=\"0 -960 960 960\">\n",
              "    <path d=\"M120-120v-720h720v720H120Zm60-500h600v-160H180v160Zm220 220h160v-160H400v160Zm0 220h160v-160H400v160ZM180-400h160v-160H180v160Zm440 0h160v-160H620v160ZM180-180h160v-160H180v160Zm440 0h160v-160H620v160Z\"/>\n",
              "  </svg>\n",
              "    </button>\n",
              "\n",
              "  <style>\n",
              "    .colab-df-container {\n",
              "      display:flex;\n",
              "      gap: 12px;\n",
              "    }\n",
              "\n",
              "    .colab-df-convert {\n",
              "      background-color: #E8F0FE;\n",
              "      border: none;\n",
              "      border-radius: 50%;\n",
              "      cursor: pointer;\n",
              "      display: none;\n",
              "      fill: #1967D2;\n",
              "      height: 32px;\n",
              "      padding: 0 0 0 0;\n",
              "      width: 32px;\n",
              "    }\n",
              "\n",
              "    .colab-df-convert:hover {\n",
              "      background-color: #E2EBFA;\n",
              "      box-shadow: 0px 1px 2px rgba(60, 64, 67, 0.3), 0px 1px 3px 1px rgba(60, 64, 67, 0.15);\n",
              "      fill: #174EA6;\n",
              "    }\n",
              "\n",
              "    .colab-df-buttons div {\n",
              "      margin-bottom: 4px;\n",
              "    }\n",
              "\n",
              "    [theme=dark] .colab-df-convert {\n",
              "      background-color: #3B4455;\n",
              "      fill: #D2E3FC;\n",
              "    }\n",
              "\n",
              "    [theme=dark] .colab-df-convert:hover {\n",
              "      background-color: #434B5C;\n",
              "      box-shadow: 0px 1px 3px 1px rgba(0, 0, 0, 0.15);\n",
              "      filter: drop-shadow(0px 1px 2px rgba(0, 0, 0, 0.3));\n",
              "      fill: #FFFFFF;\n",
              "    }\n",
              "  </style>\n",
              "\n",
              "    <script>\n",
              "      const buttonEl =\n",
              "        document.querySelector('#df-d865cdbc-2f43-4f5d-9986-f8cb0056541d button.colab-df-convert');\n",
              "      buttonEl.style.display =\n",
              "        google.colab.kernel.accessAllowed ? 'block' : 'none';\n",
              "\n",
              "      async function convertToInteractive(key) {\n",
              "        const element = document.querySelector('#df-d865cdbc-2f43-4f5d-9986-f8cb0056541d');\n",
              "        const dataTable =\n",
              "          await google.colab.kernel.invokeFunction('convertToInteractive',\n",
              "                                                    [key], {});\n",
              "        if (!dataTable) return;\n",
              "\n",
              "        const docLinkHtml = 'Like what you see? Visit the ' +\n",
              "          '<a target=\"_blank\" href=https://colab.research.google.com/notebooks/data_table.ipynb>data table notebook</a>'\n",
              "          + ' to learn more about interactive tables.';\n",
              "        element.innerHTML = '';\n",
              "        dataTable['output_type'] = 'display_data';\n",
              "        await google.colab.output.renderOutput(dataTable, element);\n",
              "        const docLink = document.createElement('div');\n",
              "        docLink.innerHTML = docLinkHtml;\n",
              "        element.appendChild(docLink);\n",
              "      }\n",
              "    </script>\n",
              "  </div>\n",
              "\n",
              "\n",
              "<div id=\"df-b7f7d3df-2d64-4f6c-a47a-ea483f9de7d4\">\n",
              "  <button class=\"colab-df-quickchart\" onclick=\"quickchart('df-b7f7d3df-2d64-4f6c-a47a-ea483f9de7d4')\"\n",
              "            title=\"Suggest charts\"\n",
              "            style=\"display:none;\">\n",
              "\n",
              "<svg xmlns=\"http://www.w3.org/2000/svg\" height=\"24px\"viewBox=\"0 0 24 24\"\n",
              "     width=\"24px\">\n",
              "    <g>\n",
              "        <path d=\"M19 3H5c-1.1 0-2 .9-2 2v14c0 1.1.9 2 2 2h14c1.1 0 2-.9 2-2V5c0-1.1-.9-2-2-2zM9 17H7v-7h2v7zm4 0h-2V7h2v10zm4 0h-2v-4h2v4z\"/>\n",
              "    </g>\n",
              "</svg>\n",
              "  </button>\n",
              "\n",
              "<style>\n",
              "  .colab-df-quickchart {\n",
              "      --bg-color: #E8F0FE;\n",
              "      --fill-color: #1967D2;\n",
              "      --hover-bg-color: #E2EBFA;\n",
              "      --hover-fill-color: #174EA6;\n",
              "      --disabled-fill-color: #AAA;\n",
              "      --disabled-bg-color: #DDD;\n",
              "  }\n",
              "\n",
              "  [theme=dark] .colab-df-quickchart {\n",
              "      --bg-color: #3B4455;\n",
              "      --fill-color: #D2E3FC;\n",
              "      --hover-bg-color: #434B5C;\n",
              "      --hover-fill-color: #FFFFFF;\n",
              "      --disabled-bg-color: #3B4455;\n",
              "      --disabled-fill-color: #666;\n",
              "  }\n",
              "\n",
              "  .colab-df-quickchart {\n",
              "    background-color: var(--bg-color);\n",
              "    border: none;\n",
              "    border-radius: 50%;\n",
              "    cursor: pointer;\n",
              "    display: none;\n",
              "    fill: var(--fill-color);\n",
              "    height: 32px;\n",
              "    padding: 0;\n",
              "    width: 32px;\n",
              "  }\n",
              "\n",
              "  .colab-df-quickchart:hover {\n",
              "    background-color: var(--hover-bg-color);\n",
              "    box-shadow: 0 1px 2px rgba(60, 64, 67, 0.3), 0 1px 3px 1px rgba(60, 64, 67, 0.15);\n",
              "    fill: var(--button-hover-fill-color);\n",
              "  }\n",
              "\n",
              "  .colab-df-quickchart-complete:disabled,\n",
              "  .colab-df-quickchart-complete:disabled:hover {\n",
              "    background-color: var(--disabled-bg-color);\n",
              "    fill: var(--disabled-fill-color);\n",
              "    box-shadow: none;\n",
              "  }\n",
              "\n",
              "  .colab-df-spinner {\n",
              "    border: 2px solid var(--fill-color);\n",
              "    border-color: transparent;\n",
              "    border-bottom-color: var(--fill-color);\n",
              "    animation:\n",
              "      spin 1s steps(1) infinite;\n",
              "  }\n",
              "\n",
              "  @keyframes spin {\n",
              "    0% {\n",
              "      border-color: transparent;\n",
              "      border-bottom-color: var(--fill-color);\n",
              "      border-left-color: var(--fill-color);\n",
              "    }\n",
              "    20% {\n",
              "      border-color: transparent;\n",
              "      border-left-color: var(--fill-color);\n",
              "      border-top-color: var(--fill-color);\n",
              "    }\n",
              "    30% {\n",
              "      border-color: transparent;\n",
              "      border-left-color: var(--fill-color);\n",
              "      border-top-color: var(--fill-color);\n",
              "      border-right-color: var(--fill-color);\n",
              "    }\n",
              "    40% {\n",
              "      border-color: transparent;\n",
              "      border-right-color: var(--fill-color);\n",
              "      border-top-color: var(--fill-color);\n",
              "    }\n",
              "    60% {\n",
              "      border-color: transparent;\n",
              "      border-right-color: var(--fill-color);\n",
              "    }\n",
              "    80% {\n",
              "      border-color: transparent;\n",
              "      border-right-color: var(--fill-color);\n",
              "      border-bottom-color: var(--fill-color);\n",
              "    }\n",
              "    90% {\n",
              "      border-color: transparent;\n",
              "      border-bottom-color: var(--fill-color);\n",
              "    }\n",
              "  }\n",
              "</style>\n",
              "\n",
              "  <script>\n",
              "    async function quickchart(key) {\n",
              "      const quickchartButtonEl =\n",
              "        document.querySelector('#' + key + ' button');\n",
              "      quickchartButtonEl.disabled = true;  // To prevent multiple clicks.\n",
              "      quickchartButtonEl.classList.add('colab-df-spinner');\n",
              "      try {\n",
              "        const charts = await google.colab.kernel.invokeFunction(\n",
              "            'suggestCharts', [key], {});\n",
              "      } catch (error) {\n",
              "        console.error('Error during call to suggestCharts:', error);\n",
              "      }\n",
              "      quickchartButtonEl.classList.remove('colab-df-spinner');\n",
              "      quickchartButtonEl.classList.add('colab-df-quickchart-complete');\n",
              "    }\n",
              "    (() => {\n",
              "      let quickchartButtonEl =\n",
              "        document.querySelector('#df-b7f7d3df-2d64-4f6c-a47a-ea483f9de7d4 button');\n",
              "      quickchartButtonEl.style.display =\n",
              "        google.colab.kernel.accessAllowed ? 'block' : 'none';\n",
              "    })();\n",
              "  </script>\n",
              "</div>\n",
              "\n",
              "    </div>\n",
              "  </div>\n"
            ]
          },
          "metadata": {},
          "execution_count": 19
        }
      ],
      "source": [
        "pd.crosstab(df['category'], df['success_indicator'])\n",
        "# Based on biivariate analysis we can conclude\n",
        "# here we can see the success indicator  of 'T-shirt' is huge among all categories which is good for buisness\n",
        "# while  in relative sense polo-shirt went flop more compared to their sucess in market"
      ]
    },
    {
      "cell_type": "code",
      "execution_count": 20,
      "id": "1aa58918",
      "metadata": {
        "colab": {
          "base_uri": "https://localhost:8080/",
          "height": 467
        },
        "id": "1aa58918",
        "outputId": "e5b1a058-3bec-4b4f-e4ce-2ea124e02bd2"
      },
      "outputs": [
        {
          "output_type": "display_data",
          "data": {
            "text/plain": [
              "<Figure size 640x480 with 1 Axes>"
            ],
            "image/png": "[encoded data removed]"
          },
          "metadata": {}
        }
      ],
      "source": [
        "# as categorical features we can go for stacked_bar_plot\n",
        "cross_tab = pd.crosstab(df['category'], df['success_indicator'])\n",
        "\n",
        "cross_tab.plot.bar(stacked=True) # will plot the stacked bar plot\n",
        "\n",
        "plt.xlabel('Category')\n",
        "plt.ylabel('Count')\n",
        "plt.title('Bar Plot: Category vs Success Indicator')\n",
        "plt.show()"
      ]
    },
    {
      "cell_type": "code",
      "execution_count": 21,
      "id": "2abe9923",
      "metadata": {
        "colab": {
          "base_uri": "https://localhost:8080/"
        },
        "id": "2abe9923",
        "outputId": "542bd22e-c87a-4c16-90c1-eb6fe044ff52"
      },
      "outputs": [
        {
          "output_type": "execute_result",
          "data": {
            "text/plain": [
              "(0, 5)"
            ]
          },
          "metadata": {},
          "execution_count": 21
        }
      ],
      "source": [
        "df[df['category'] == 0].shape # 1246\n",
        "df[(df['category'] ==  0 ) & (df['success_indicator'] == 1)].shape #883\n",
        "#when category of product is Blouse then percent of success indicator = TOP will be 70.86%"
      ]
    },
    {
      "cell_type": "code",
      "execution_count": 22,
      "id": "149db698",
      "metadata": {
        "colab": {
          "base_uri": "https://localhost:8080/"
        },
        "id": "149db698",
        "outputId": "d84f4bb9-8ee6-4d0c-d06f-805658f92adb"
      },
      "outputs": [
        {
          "output_type": "execute_result",
          "data": {
            "text/plain": [
              "(0, 5)"
            ]
          },
          "metadata": {},
          "execution_count": 22
        }
      ],
      "source": [
        "df[df['category'] == 1].shape # 739\n",
        "df[(df['category'] ==  1 ) & (df['success_indicator'] == 1)].shape #481\n",
        "#when category of product is Hoodie then percent of success indicator = TOP will be 65.08%"
      ]
    },
    {
      "cell_type": "code",
      "execution_count": 23,
      "id": "520dc4f3",
      "metadata": {
        "colab": {
          "base_uri": "https://localhost:8080/"
        },
        "id": "520dc4f3",
        "outputId": "a1b4f96a-13da-460f-9853-624629342226"
      },
      "outputs": [
        {
          "output_type": "execute_result",
          "data": {
            "text/plain": [
              "(0, 5)"
            ]
          },
          "metadata": {},
          "execution_count": 23
        }
      ],
      "source": [
        "df[df['category'] == 2].shape # 1546\n",
        "df[(df['category'] ==  2 ) & (df['success_indicator'] == 1)].shape #729\n",
        "#when category of product is Polo-Shirt then percent of success indicator = TOP will be 47.15%"
      ]
    },
    {
      "cell_type": "code",
      "execution_count": 24,
      "id": "b52ebaa6",
      "metadata": {
        "colab": {
          "base_uri": "https://localhost:8080/"
        },
        "id": "b52ebaa6",
        "outputId": "c81a195c-cf11-4f5f-a568-3e529bc26e0d"
      },
      "outputs": [
        {
          "output_type": "execute_result",
          "data": {
            "text/plain": [
              "(0, 5)"
            ]
          },
          "metadata": {},
          "execution_count": 24
        }
      ],
      "source": [
        "df[df['category'] == 3].shape # 1360\n",
        "df[(df['category'] ==  3 ) & (df['success_indicator'] == 1)].shape #907\n",
        "#when category of product is Sweatshirt then percent of success indicator = TOP will be 66.69%"
      ]
    },
    {
      "cell_type": "code",
      "execution_count": 25,
      "id": "7c7c7793",
      "metadata": {
        "colab": {
          "base_uri": "https://localhost:8080/"
        },
        "id": "7c7c7793",
        "outputId": "6f9a030b-b9a1-4c92-ef49-e872c8dfec65"
      },
      "outputs": [
        {
          "output_type": "execute_result",
          "data": {
            "text/plain": [
              "(0, 5)"
            ]
          },
          "metadata": {},
          "execution_count": 25
        }
      ],
      "source": [
        "df[df['category'] == 4].shape # 1459\n",
        "df[(df['category'] ==  4 ) & (df['success_indicator'] == 1)].shape #1188\n",
        "#when category of product is T-Shirt then percent of success indicator = TOP will be 81.42%"
      ]
    },
    {
      "cell_type": "code",
      "execution_count": 26,
      "id": "97746d94",
      "metadata": {
        "colab": {
          "base_uri": "https://localhost:8080/"
        },
        "id": "97746d94",
        "outputId": "2291c9c6-b43f-49f6-ae4b-b66467e589a7"
      },
      "outputs": [
        {
          "output_type": "execute_result",
          "data": {
            "text/plain": [
              "(0, 5)"
            ]
          },
          "metadata": {},
          "execution_count": 26
        }
      ],
      "source": [
        "df[df['category'] == 5].shape # 1650\n",
        "df[(df['category'] ==  5 ) & (df['success_indicator'] == 1)].shape #997\n",
        "#when category of product is Tunic then percent of success indicator = TOP will be 60.42%"
      ]
    },
    {
      "cell_type": "markdown",
      "id": "b6a44462",
      "metadata": {
        "id": "b6a44462"
      },
      "source": [
        "# Analysis on : main_promotion feature"
      ]
    },
    {
      "cell_type": "code",
      "execution_count": 27,
      "id": "09184f9b",
      "metadata": {
        "colab": {
          "base_uri": "https://localhost:8080/"
        },
        "id": "09184f9b",
        "outputId": "b8a579f0-bb81-4bc0-be9a-8f28f4672737"
      },
      "outputs": [
        {
          "output_type": "execute_result",
          "data": {
            "text/plain": [
              "Category_Highlight     2432\n",
              "Catalog                2246\n",
              "Frontpage_Header       2013\n",
              "Display_Ad_Campaign    1309\n",
              "Name: main_promotion, dtype: int64"
            ]
          },
          "metadata": {},
          "execution_count": 27
        }
      ],
      "source": [
        "df['main_promotion'].value_counts()"
      ]
    },
    {
      "cell_type": "markdown",
      "id": "2bbe22cb",
      "metadata": {
        "id": "2bbe22cb"
      },
      "source": [
        "Here for promotion of these product company used 4 mainways namely Category_Highlight, Catalog, Frontpage_Header,\n",
        "Display_Ad_Campaign"
      ]
    },
    {
      "cell_type": "code",
      "execution_count": 28,
      "id": "11dae5bc",
      "metadata": {
        "colab": {
          "base_uri": "https://localhost:8080/"
        },
        "id": "11dae5bc",
        "outputId": "0e6bdeed-0223-4394-b087-bbaaeacf3c87"
      },
      "outputs": [
        {
          "output_type": "stream",
          "name": "stdout",
          "text": [
            "[0 1 0 ... 1 1 2]\n"
          ]
        }
      ],
      "source": [
        "from sklearn.preprocessing import LabelEncoder    # here we have encoded 6 product category into num using label encoder\n",
        "le2 = LabelEncoder()\n",
        "encoded_main_promotion = le2.fit_transform(df['main_promotion'])\n",
        "print(encoded_main_promotion)"
      ]
    },
    {
      "cell_type": "code",
      "execution_count": 29,
      "id": "8b320616",
      "metadata": {
        "id": "8b320616"
      },
      "outputs": [],
      "source": [
        "df['main_promotion'] = encoded_main_promotion"
      ]
    },
    {
      "cell_type": "code",
      "execution_count": 30,
      "id": "53d68415",
      "metadata": {
        "colab": {
          "base_uri": "https://localhost:8080/"
        },
        "id": "53d68415",
        "outputId": "56331315-c643-41af-ba6e-7b9cfdbc817e"
      },
      "outputs": [
        {
          "output_type": "execute_result",
          "data": {
            "text/plain": [
              "array(['Catalog', 'Category_Highlight', 'Display_Ad_Campaign',\n",
              "       'Frontpage_Header'], dtype=object)"
            ]
          },
          "metadata": {},
          "execution_count": 30
        }
      ],
      "source": [
        "encoded_categories_mp = le2.classes_\n",
        "encoded_categories_mp"
      ]
    },
    {
      "cell_type": "code",
      "execution_count": 31,
      "id": "eec932bc",
      "metadata": {
        "colab": {
          "base_uri": "https://localhost:8080/"
        },
        "id": "eec932bc",
        "outputId": "8545039c-4aa0-40cc-b1f2-c4965ab88eb7"
      },
      "outputs": [
        {
          "output_type": "stream",
          "name": "stdout",
          "text": [
            "Encoded Category: Catalog, Encoded Value: 0\n",
            "Encoded Category: Category_Highlight, Encoded Value: 1\n",
            "Encoded Category: Display_Ad_Campaign, Encoded Value: 2\n",
            "Encoded Category: Frontpage_Header, Encoded Value: 3\n"
          ]
        }
      ],
      "source": [
        "encoded_values2 = le2.transform(encoded_categories_mp)\n",
        "category_mapping2 = dict(zip(encoded_categories_mp, encoded_values2)) # dictionary mapping the names to the numerical values\n",
        "for mp, value2 in category_mapping2.items():\n",
        "    print(f\"Encoded Category: {mp}, Encoded Value: {value2}\")  # encoded value with its original name"
      ]
    },
    {
      "cell_type": "code",
      "execution_count": null,
      "id": "1232e51a",
      "metadata": {
        "id": "1232e51a"
      },
      "outputs": [],
      "source": [
        "# Bivarite of main_promotion and success_indicator feature"
      ]
    },
    {
      "cell_type": "code",
      "execution_count": 32,
      "id": "7d85346f",
      "metadata": {
        "colab": {
          "base_uri": "https://localhost:8080/",
          "height": 206
        },
        "id": "7d85346f",
        "outputId": "9c83195d-d1d2-4a07-f274-ac5e9aa96a02"
      },
      "outputs": [
        {
          "output_type": "execute_result",
          "data": {
            "text/plain": [
              "success_indicator  flop   top\n",
              "main_promotion               \n",
              "0                   953  1293\n",
              "1                   930  1502\n",
              "2                   335   974\n",
              "3                   597  1416"
            ],
            "text/html": [
              "\n",
              "  <div id=\"df-fca507f5-6539-438c-bad0-ca861e7f30c0\" class=\"colab-df-container\">\n",
              "    <div>\n",
              "<style scoped>\n",
              "    .dataframe tbody tr th:only-of-type {\n",
              "        vertical-align: middle;\n",
              "    }\n",
              "\n",
              "    .dataframe tbody tr th {\n",
              "        vertical-align: top;\n",
              "    }\n",
              "\n",
              "    .dataframe thead th {\n",
              "        text-align: right;\n",
              "    }\n",
              "</style>\n",
              "<table border=\"1\" class=\"dataframe\">\n",
              "  <thead>\n",
              "    <tr style=\"text-align: right;\">\n",
              "      <th>success_indicator</th>\n",
              "      <th>flop</th>\n",
              "      <th>top</th>\n",
              "    </tr>\n",
              "    <tr>\n",
              "      <th>main_promotion</th>\n",
              "      <th></th>\n",
              "      <th></th>\n",
              "    </tr>\n",
              "  </thead>\n",
              "  <tbody>\n",
              "    <tr>\n",
              "      <th>0</th>\n",
              "      <td>953</td>\n",
              "      <td>1293</td>\n",
              "    </tr>\n",
              "    <tr>\n",
              "      <th>1</th>\n",
              "      <td>930</td>\n",
              "      <td>1502</td>\n",
              "    </tr>\n",
              "    <tr>\n",
              "      <th>2</th>\n",
              "      <td>335</td>\n",
              "      <td>974</td>\n",
              "    </tr>\n",
              "    <tr>\n",
              "      <th>3</th>\n",
              "      <td>597</td>\n",
              "      <td>1416</td>\n",
              "    </tr>\n",
              "  </tbody>\n",
              "</table>\n",
              "</div>\n",
              "    <div class=\"colab-df-buttons\">\n",
              "\n",
              "  <div class=\"colab-df-container\">\n",
              "    <button class=\"colab-df-convert\" onclick=\"convertToInteractive('df-fca507f5-6539-438c-bad0-ca861e7f30c0')\"\n",
              "            title=\"Convert this dataframe to an interactive table.\"\n",
              "            style=\"display:none;\">\n",
              "\n",
              "  <svg xmlns=\"http://www.w3.org/2000/svg\" height=\"24px\" viewBox=\"0 -960 960 960\">\n",
              "    <path d=\"M120-120v-720h720v720H120Zm60-500h600v-160H180v160Zm220 220h160v-160H400v160Zm0 220h160v-160H400v160ZM180-400h160v-160H180v160Zm440 0h160v-160H620v160ZM180-180h160v-160H180v160Zm440 0h160v-160H620v160Z\"/>\n",
              "  </svg>\n",
              "    </button>\n",
              "\n",
              "  <style>\n",
              "    .colab-df-container {\n",
              "      display:flex;\n",
              "      gap: 12px;\n",
              "    }\n",
              "\n",
              "    .colab-df-convert {\n",
              "      background-color: #E8F0FE;\n",
              "      border: none;\n",
              "      border-radius: 50%;\n",
              "      cursor: pointer;\n",
              "      display: none;\n",
              "      fill: #1967D2;\n",
              "      height: 32px;\n",
              "      padding: 0 0 0 0;\n",
              "      width: 32px;\n",
              "    }\n",
              "\n",
              "    .colab-df-convert:hover {\n",
              "      background-color: #E2EBFA;\n",
              "      box-shadow: 0px 1px 2px rgba(60, 64, 67, 0.3), 0px 1px 3px 1px rgba(60, 64, 67, 0.15);\n",
              "      fill: #174EA6;\n",
              "    }\n",
              "\n",
              "    .colab-df-buttons div {\n",
              "      margin-bottom: 4px;\n",
              "    }\n",
              "\n",
              "    [theme=dark] .colab-df-convert {\n",
              "      background-color: #3B4455;\n",
              "      fill: #D2E3FC;\n",
              "    }\n",
              "\n",
              "    [theme=dark] .colab-df-convert:hover {\n",
              "      background-color: #434B5C;\n",
              "      box-shadow: 0px 1px 3px 1px rgba(0, 0, 0, 0.15);\n",
              "      filter: drop-shadow(0px 1px 2px rgba(0, 0, 0, 0.3));\n",
              "      fill: #FFFFFF;\n",
              "    }\n",
              "  </style>\n",
              "\n",
              "    <script>\n",
              "      const buttonEl =\n",
              "        document.querySelector('#df-fca507f5-6539-438c-bad0-ca861e7f30c0 button.colab-df-convert');\n",
              "      buttonEl.style.display =\n",
              "        google.colab.kernel.accessAllowed ? 'block' : 'none';\n",
              "\n",
              "      async function convertToInteractive(key) {\n",
              "        const element = document.querySelector('#df-fca507f5-6539-438c-bad0-ca861e7f30c0');\n",
              "        const dataTable =\n",
              "          await google.colab.kernel.invokeFunction('convertToInteractive',\n",
              "                                                    [key], {});\n",
              "        if (!dataTable) return;\n",
              "\n",
              "        const docLinkHtml = 'Like what you see? Visit the ' +\n",
              "          '<a target=\"_blank\" href=https://colab.research.google.com/notebooks/data_table.ipynb>data table notebook</a>'\n",
              "          + ' to learn more about interactive tables.';\n",
              "        element.innerHTML = '';\n",
              "        dataTable['output_type'] = 'display_data';\n",
              "        await google.colab.output.renderOutput(dataTable, element);\n",
              "        const docLink = document.createElement('div');\n",
              "        docLink.innerHTML = docLinkHtml;\n",
              "        element.appendChild(docLink);\n",
              "      }\n",
              "    </script>\n",
              "  </div>\n",
              "\n",
              "\n",
              "<div id=\"df-35967984-2983-4a16-bf27-77451f0303a6\">\n",
              "  <button class=\"colab-df-quickchart\" onclick=\"quickchart('df-35967984-2983-4a16-bf27-77451f0303a6')\"\n",
              "            title=\"Suggest charts\"\n",
              "            style=\"display:none;\">\n",
              "\n",
              "<svg xmlns=\"http://www.w3.org/2000/svg\" height=\"24px\"viewBox=\"0 0 24 24\"\n",
              "     width=\"24px\">\n",
              "    <g>\n",
              "        <path d=\"M19 3H5c-1.1 0-2 .9-2 2v14c0 1.1.9 2 2 2h14c1.1 0 2-.9 2-2V5c0-1.1-.9-2-2-2zM9 17H7v-7h2v7zm4 0h-2V7h2v10zm4 0h-2v-4h2v4z\"/>\n",
              "    </g>\n",
              "</svg>\n",
              "  </button>\n",
              "\n",
              "<style>\n",
              "  .colab-df-quickchart {\n",
              "      --bg-color: #E8F0FE;\n",
              "      --fill-color: #1967D2;\n",
              "      --hover-bg-color: #E2EBFA;\n",
              "      --hover-fill-color: #174EA6;\n",
              "      --disabled-fill-color: #AAA;\n",
              "      --disabled-bg-color: #DDD;\n",
              "  }\n",
              "\n",
              "  [theme=dark] .colab-df-quickchart {\n",
              "      --bg-color: #3B4455;\n",
              "      --fill-color: #D2E3FC;\n",
              "      --hover-bg-color: #434B5C;\n",
              "      --hover-fill-color: #FFFFFF;\n",
              "      --disabled-bg-color: #3B4455;\n",
              "      --disabled-fill-color: #666;\n",
              "  }\n",
              "\n",
              "  .colab-df-quickchart {\n",
              "    background-color: var(--bg-color);\n",
              "    border: none;\n",
              "    border-radius: 50%;\n",
              "    cursor: pointer;\n",
              "    display: none;\n",
              "    fill: var(--fill-color);\n",
              "    height: 32px;\n",
              "    padding: 0;\n",
              "    width: 32px;\n",
              "  }\n",
              "\n",
              "  .colab-df-quickchart:hover {\n",
              "    background-color: var(--hover-bg-color);\n",
              "    box-shadow: 0 1px 2px rgba(60, 64, 67, 0.3), 0 1px 3px 1px rgba(60, 64, 67, 0.15);\n",
              "    fill: var(--button-hover-fill-color);\n",
              "  }\n",
              "\n",
              "  .colab-df-quickchart-complete:disabled,\n",
              "  .colab-df-quickchart-complete:disabled:hover {\n",
              "    background-color: var(--disabled-bg-color);\n",
              "    fill: var(--disabled-fill-color);\n",
              "    box-shadow: none;\n",
              "  }\n",
              "\n",
              "  .colab-df-spinner {\n",
              "    border: 2px solid var(--fill-color);\n",
              "    border-color: transparent;\n",
              "    border-bottom-color: var(--fill-color);\n",
              "    animation:\n",
              "      spin 1s steps(1) infinite;\n",
              "  }\n",
              "\n",
              "  @keyframes spin {\n",
              "    0% {\n",
              "      border-color: transparent;\n",
              "      border-bottom-color: var(--fill-color);\n",
              "      border-left-color: var(--fill-color);\n",
              "    }\n",
              "    20% {\n",
              "      border-color: transparent;\n",
              "      border-left-color: var(--fill-color);\n",
              "      border-top-color: var(--fill-color);\n",
              "    }\n",
              "    30% {\n",
              "      border-color: transparent;\n",
              "      border-left-color: var(--fill-color);\n",
              "      border-top-color: var(--fill-color);\n",
              "      border-right-color: var(--fill-color);\n",
              "    }\n",
              "    40% {\n",
              "      border-color: transparent;\n",
              "      border-right-color: var(--fill-color);\n",
              "      border-top-color: var(--fill-color);\n",
              "    }\n",
              "    60% {\n",
              "      border-color: transparent;\n",
              "      border-right-color: var(--fill-color);\n",
              "    }\n",
              "    80% {\n",
              "      border-color: transparent;\n",
              "      border-right-color: var(--fill-color);\n",
              "      border-bottom-color: var(--fill-color);\n",
              "    }\n",
              "    90% {\n",
              "      border-color: transparent;\n",
              "      border-bottom-color: var(--fill-color);\n",
              "    }\n",
              "  }\n",
              "</style>\n",
              "\n",
              "  <script>\n",
              "    async function quickchart(key) {\n",
              "      const quickchartButtonEl =\n",
              "        document.querySelector('#' + key + ' button');\n",
              "      quickchartButtonEl.disabled = true;  // To prevent multiple clicks.\n",
              "      quickchartButtonEl.classList.add('colab-df-spinner');\n",
              "      try {\n",
              "        const charts = await google.colab.kernel.invokeFunction(\n",
              "            'suggestCharts', [key], {});\n",
              "      } catch (error) {\n",
              "        console.error('Error during call to suggestCharts:', error);\n",
              "      }\n",
              "      quickchartButtonEl.classList.remove('colab-df-spinner');\n",
              "      quickchartButtonEl.classList.add('colab-df-quickchart-complete');\n",
              "    }\n",
              "    (() => {\n",
              "      let quickchartButtonEl =\n",
              "        document.querySelector('#df-35967984-2983-4a16-bf27-77451f0303a6 button');\n",
              "      quickchartButtonEl.style.display =\n",
              "        google.colab.kernel.accessAllowed ? 'block' : 'none';\n",
              "    })();\n",
              "  </script>\n",
              "</div>\n",
              "\n",
              "  <div id=\"id_44fd2219-3a1c-4215-b92e-d3b42af9db9a\">\n",
              "    <style>\n",
              "      .colab-df-generate {\n",
              "        background-color: #E8F0FE;\n",
              "        border: none;\n",
              "        border-radius: 50%;\n",
              "        cursor: pointer;\n",
              "        display: none;\n",
              "        fill: #1967D2;\n",
              "        height: 32px;\n",
              "        padding: 0 0 0 0;\n",
              "        width: 32px;\n",
              "      }\n",
              "\n",
              "      .colab-df-generate:hover {\n",
              "        background-color: #E2EBFA;\n",
              "        box-shadow: 0px 1px 2px rgba(60, 64, 67, 0.3), 0px 1px 3px 1px rgba(60, 64, 67, 0.15);\n",
              "        fill: #174EA6;\n",
              "      }\n",
              "\n",
              "      [theme=dark] .colab-df-generate {\n",
              "        background-color: #3B4455;\n",
              "        fill: #D2E3FC;\n",
              "      }\n",
              "\n",
              "      [theme=dark] .colab-df-generate:hover {\n",
              "        background-color: #434B5C;\n",
              "        box-shadow: 0px 1px 3px 1px rgba(0, 0, 0, 0.15);\n",
              "        filter: drop-shadow(0px 1px 2px rgba(0, 0, 0, 0.3));\n",
              "        fill: #FFFFFF;\n",
              "      }\n",
              "    </style>\n",
              "    <button class=\"colab-df-generate\" onclick=\"generateWithVariable('cross_tab2')\"\n",
              "            title=\"Generate code using this dataframe.\"\n",
              "            style=\"display:none;\">\n",
              "\n",
              "  <svg xmlns=\"http://www.w3.org/2000/svg\" height=\"24px\"viewBox=\"0 0 24 24\"\n",
              "       width=\"24px\">\n",
              "    <path d=\"M7,19H8.4L18.45,9,17,7.55,7,17.6ZM5,21V16.75L18.45,3.32a2,2,0,0,1,2.83,0l1.4,1.43a1.91,1.91,0,0,1,.58,1.4,1.91,1.91,0,0,1-.58,1.4L9.25,21ZM18.45,9,17,7.55Zm-12,3A5.31,5.31,0,0,0,4.9,8.1,5.31,5.31,0,0,0,1,6.5,5.31,5.31,0,0,0,4.9,4.9,5.31,5.31,0,0,0,6.5,1,5.31,5.31,0,0,0,8.1,4.9,5.31,5.31,0,0,0,12,6.5,5.46,5.46,0,0,0,6.5,12Z\"/>\n",
              "  </svg>\n",
              "    </button>\n",
              "    <script>\n",
              "      (() => {\n",
              "      const buttonEl =\n",
              "        document.querySelector('#id_44fd2219-3a1c-4215-b92e-d3b42af9db9a button.colab-df-generate');\n",
              "      buttonEl.style.display =\n",
              "        google.colab.kernel.accessAllowed ? 'block' : 'none';\n",
              "\n",
              "      buttonEl.onclick = () => {\n",
              "        google.colab.notebook.generateWithVariable('cross_tab2');\n",
              "      }\n",
              "      })();\n",
              "    </script>\n",
              "  </div>\n",
              "\n",
              "    </div>\n",
              "  </div>\n"
            ]
          },
          "metadata": {},
          "execution_count": 32
        }
      ],
      "source": [
        "cross_tab2 = pd.crosstab(df['main_promotion'], df['success_indicator'])\n",
        "cross_tab2"
      ]
    },
    {
      "cell_type": "markdown",
      "id": "a070306f",
      "metadata": {
        "id": "a070306f"
      },
      "source": [
        "here we can observe success rate is\n",
        "57% for Catalog\n",
        "61% Category_Highlight\n",
        "74% Display_Ad_Campaign\n",
        "70% Frontpage_Header\n",
        "Hence as per these bivariate analysis company should focus on Display_Ad_Campaign and Frontpage_Header promotions more\n",
        "and other two as less"
      ]
    },
    {
      "cell_type": "code",
      "execution_count": 33,
      "id": "9f87ba33",
      "metadata": {
        "colab": {
          "base_uri": "https://localhost:8080/",
          "height": 467
        },
        "id": "9f87ba33",
        "outputId": "3df953ac-c659-4c63-f320-7ab2829db016"
      },
      "outputs": [
        {
          "output_type": "display_data",
          "data": {
            "text/plain": [
              "<Figure size 640x480 with 1 Axes>"
            ],
            "image/png": "[encoded data removed]"
          },
          "metadata": {}
        }
      ],
      "source": [
        "cross_tab2 = pd.crosstab(df['main_promotion'], df['success_indicator'])\n",
        "cross_tab2.plot.bar(stacked=True)\n",
        "plt.xlabel('Main Promotion')\n",
        "plt.ylabel('Count')\n",
        "plt.title('Stacked Bar Plot: Main Promotion vs Success Indicator')\n",
        "plt.show()"
      ]
    },
    {
      "cell_type": "code",
      "execution_count": 34,
      "id": "25286fec",
      "metadata": {
        "colab": {
          "base_uri": "https://localhost:8080/"
        },
        "id": "25286fec",
        "outputId": "8057a9cd-56f8-46a8-ccb7-fb4b91e1a83a"
      },
      "outputs": [
        {
          "output_type": "execute_result",
          "data": {
            "text/plain": [
              "(2246, 5)"
            ]
          },
          "metadata": {},
          "execution_count": 34
        }
      ],
      "source": [
        "df[df['main_promotion'] == 0].shape # 2246\n",
        "#df[(df['main_promotion'] == 0  ) & (df['success_indicator'] == 1)].shape #1293\n",
        "#when main_promotion is via Catalog then percent of sucess indicator = TOP will be 57.56%"
      ]
    },
    {
      "cell_type": "code",
      "execution_count": 35,
      "id": "1d7faa81",
      "metadata": {
        "colab": {
          "base_uri": "https://localhost:8080/"
        },
        "id": "1d7faa81",
        "outputId": "1be15f4e-0df3-4765-e970-362ccf6ba146"
      },
      "outputs": [
        {
          "output_type": "execute_result",
          "data": {
            "text/plain": [
              "(0, 5)"
            ]
          },
          "metadata": {},
          "execution_count": 35
        }
      ],
      "source": [
        "df[df['main_promotion'] == 1].shape # 2432\n",
        "df[(df['main_promotion'] ==  1 ) & (df['success_indicator'] == 1)].shape #1502\n",
        "#when main_promotion is via Category_Highlight then percent of sucess indicator = TOP will be 61.75%"
      ]
    },
    {
      "cell_type": "code",
      "execution_count": 36,
      "id": "dd3b0bd8",
      "metadata": {
        "colab": {
          "base_uri": "https://localhost:8080/"
        },
        "id": "dd3b0bd8",
        "outputId": "d4d00a82-1b5e-4c2c-85a5-d0327640d694"
      },
      "outputs": [
        {
          "output_type": "execute_result",
          "data": {
            "text/plain": [
              "(0, 5)"
            ]
          },
          "metadata": {},
          "execution_count": 36
        }
      ],
      "source": [
        "df[df['main_promotion'] == 2].shape # 1309\n",
        "df[(df['main_promotion'] == 2  ) & (df['success_indicator'] == 1)].shape #974\n",
        "#when main_promotion is via Display_Ad_Campaign then percent of sucess indicator = TOP will be 74.40%"
      ]
    },
    {
      "cell_type": "code",
      "execution_count": 37,
      "id": "9ce54981",
      "metadata": {
        "colab": {
          "base_uri": "https://localhost:8080/"
        },
        "id": "9ce54981",
        "outputId": "4e14e334-62ed-46d5-8395-7b86a4f8344d"
      },
      "outputs": [
        {
          "output_type": "execute_result",
          "data": {
            "text/plain": [
              "(0, 5)"
            ]
          },
          "metadata": {},
          "execution_count": 37
        }
      ],
      "source": [
        "df[df['main_promotion'] == 3].shape # 2013\n",
        "df[(df['main_promotion'] == 3  ) & (df['success_indicator'] == 1)].shape #1416\n",
        "#when main_promotion is via Frontpage_Header then percent of sucess indicator = TOP will be 70.34%"
      ]
    },
    {
      "cell_type": "markdown",
      "id": "2fbb1e46",
      "metadata": {
        "id": "2fbb1e46"
      },
      "source": [
        "# Analysis on : color feature"
      ]
    },
    {
      "cell_type": "code",
      "execution_count": 38,
      "id": "20ff6806",
      "metadata": {
        "colab": {
          "base_uri": "https://localhost:8080/"
        },
        "id": "20ff6806",
        "outputId": "8b9a226b-04a1-457d-9416-2a4e541d5f4d"
      },
      "outputs": [
        {
          "output_type": "execute_result",
          "data": {
            "text/plain": [
              "Multi-Color    1443\n",
              "Blue           1244\n",
              "Yellow         1056\n",
              "Black           812\n",
              "Red             776\n",
              "Green           728\n",
              "Orange          592\n",
              "Brown           585\n",
              "Pink            412\n",
              "White           352\n",
              "Name: color, dtype: int64"
            ]
          },
          "metadata": {},
          "execution_count": 38
        }
      ],
      "source": [
        "df['color'].value_counts()"
      ]
    },
    {
      "cell_type": "code",
      "execution_count": 39,
      "id": "c13f1f60",
      "metadata": {
        "colab": {
          "base_uri": "https://localhost:8080/"
        },
        "id": "c13f1f60",
        "outputId": "2f217863-63c4-40e6-c762-85a591e7ede7"
      },
      "outputs": [
        {
          "output_type": "stream",
          "name": "stdout",
          "text": [
            "[3 7 7 ... 9 1 1]\n"
          ]
        }
      ],
      "source": [
        "from sklearn.preprocessing import LabelEncoder    # here we have encoded color category into num using label encoder\n",
        "le3 = LabelEncoder()\n",
        "encoded_color = le3.fit_transform(df['color'])\n",
        "print(encoded_color)"
      ]
    },
    {
      "cell_type": "code",
      "execution_count": 40,
      "id": "7619e28b",
      "metadata": {
        "id": "7619e28b"
      },
      "outputs": [],
      "source": [
        "df['color'] = encoded_color"
      ]
    },
    {
      "cell_type": "code",
      "execution_count": 41,
      "id": "ca5fa66d",
      "metadata": {
        "colab": {
          "base_uri": "https://localhost:8080/"
        },
        "id": "ca5fa66d",
        "outputId": "cf6b8927-9a21-475e-fd7f-6a75ece368c1"
      },
      "outputs": [
        {
          "output_type": "execute_result",
          "data": {
            "text/plain": [
              "array(['Black', 'Blue', 'Brown', 'Green', 'Multi-Color', 'Orange', 'Pink',\n",
              "       'Red', 'White', 'Yellow'], dtype=object)"
            ]
          },
          "metadata": {},
          "execution_count": 41
        }
      ],
      "source": [
        "encoded_color_class = le3.classes_\n",
        "encoded_color_class"
      ]
    },
    {
      "cell_type": "code",
      "execution_count": 42,
      "id": "934122e3",
      "metadata": {
        "colab": {
          "base_uri": "https://localhost:8080/"
        },
        "id": "934122e3",
        "outputId": "ffb18464-eb7b-42e3-fa75-1d147bb00ba1"
      },
      "outputs": [
        {
          "output_type": "stream",
          "name": "stdout",
          "text": [
            "Encoded Category: Black, Encoded Value: 0\n",
            "Encoded Category: Blue, Encoded Value: 1\n",
            "Encoded Category: Brown, Encoded Value: 2\n",
            "Encoded Category: Green, Encoded Value: 3\n",
            "Encoded Category: Multi-Color, Encoded Value: 4\n",
            "Encoded Category: Orange, Encoded Value: 5\n",
            "Encoded Category: Pink, Encoded Value: 6\n",
            "Encoded Category: Red, Encoded Value: 7\n",
            "Encoded Category: White, Encoded Value: 8\n",
            "Encoded Category: Yellow, Encoded Value: 9\n"
          ]
        }
      ],
      "source": [
        "encoded_values3 = le3.transform(encoded_color_class)\n",
        "category_mapping3 = dict(zip(encoded_color_class, encoded_values3)) # dictionary mapping the names to the numerical values\n",
        "for color, value3 in category_mapping3.items():\n",
        "    print(f\"Encoded Category: {color}, Encoded Value: {value3}\")  # encoded value with its original name"
      ]
    },
    {
      "cell_type": "code",
      "execution_count": 43,
      "id": "912c7582",
      "metadata": {
        "colab": {
          "base_uri": "https://localhost:8080/",
          "height": 206
        },
        "id": "912c7582",
        "outputId": "cf449f30-71d2-490f-aa97-7c5b6159248e"
      },
      "outputs": [
        {
          "output_type": "execute_result",
          "data": {
            "text/plain": [
              "   category  main_promotion  color  stars success_indicator\n",
              "0         5               0      3    3.1              flop\n",
              "1         1               1      7    1.5              flop\n",
              "2         3               0      7    4.4               top\n",
              "3         2               1      1    3.1              flop\n",
              "4         1               1      3    4.1               top"
            ],
            "text/html": [
              "\n",
              "  <div id=\"df-601f1a1a-6e4e-4e1b-9f9b-9d0564c330f1\" class=\"colab-df-container\">\n",
              "    <div>\n",
              "<style scoped>\n",
              "    .dataframe tbody tr th:only-of-type {\n",
              "        vertical-align: middle;\n",
              "    }\n",
              "\n",
              "    .dataframe tbody tr th {\n",
              "        vertical-align: top;\n",
              "    }\n",
              "\n",
              "    .dataframe thead th {\n",
              "        text-align: right;\n",
              "    }\n",
              "</style>\n",
              "<table border=\"1\" class=\"dataframe\">\n",
              "  <thead>\n",
              "    <tr style=\"text-align: right;\">\n",
              "      <th></th>\n",
              "      <th>category</th>\n",
              "      <th>main_promotion</th>\n",
              "      <th>color</th>\n",
              "      <th>stars</th>\n",
              "      <th>success_indicator</th>\n",
              "    </tr>\n",
              "  </thead>\n",
              "  <tbody>\n",
              "    <tr>\n",
              "      <th>0</th>\n",
              "      <td>5</td>\n",
              "      <td>0</td>\n",
              "      <td>3</td>\n",
              "      <td>3.1</td>\n",
              "      <td>flop</td>\n",
              "    </tr>\n",
              "    <tr>\n",
              "      <th>1</th>\n",
              "      <td>1</td>\n",
              "      <td>1</td>\n",
              "      <td>7</td>\n",
              "      <td>1.5</td>\n",
              "      <td>flop</td>\n",
              "    </tr>\n",
              "    <tr>\n",
              "      <th>2</th>\n",
              "      <td>3</td>\n",
              "      <td>0</td>\n",
              "      <td>7</td>\n",
              "      <td>4.4</td>\n",
              "      <td>top</td>\n",
              "    </tr>\n",
              "    <tr>\n",
              "      <th>3</th>\n",
              "      <td>2</td>\n",
              "      <td>1</td>\n",
              "      <td>1</td>\n",
              "      <td>3.1</td>\n",
              "      <td>flop</td>\n",
              "    </tr>\n",
              "    <tr>\n",
              "      <th>4</th>\n",
              "      <td>1</td>\n",
              "      <td>1</td>\n",
              "      <td>3</td>\n",
              "      <td>4.1</td>\n",
              "      <td>top</td>\n",
              "    </tr>\n",
              "  </tbody>\n",
              "</table>\n",
              "</div>\n",
              "    <div class=\"colab-df-buttons\">\n",
              "\n",
              "  <div class=\"colab-df-container\">\n",
              "    <button class=\"colab-df-convert\" onclick=\"convertToInteractive('df-601f1a1a-6e4e-4e1b-9f9b-9d0564c330f1')\"\n",
              "            title=\"Convert this dataframe to an interactive table.\"\n",
              "            style=\"display:none;\">\n",
              "\n",
              "  <svg xmlns=\"http://www.w3.org/2000/svg\" height=\"24px\" viewBox=\"0 -960 960 960\">\n",
              "    <path d=\"M120-120v-720h720v720H120Zm60-500h600v-160H180v160Zm220 220h160v-160H400v160Zm0 220h160v-160H400v160ZM180-400h160v-160H180v160Zm440 0h160v-160H620v160ZM180-180h160v-160H180v160Zm440 0h160v-160H620v160Z\"/>\n",
              "  </svg>\n",
              "    </button>\n",
              "\n",
              "  <style>\n",
              "    .colab-df-container {\n",
              "      display:flex;\n",
              "      gap: 12px;\n",
              "    }\n",
              "\n",
              "    .colab-df-convert {\n",
              "      background-color: #E8F0FE;\n",
              "      border: none;\n",
              "      border-radius: 50%;\n",
              "      cursor: pointer;\n",
              "      display: none;\n",
              "      fill: #1967D2;\n",
              "      height: 32px;\n",
              "      padding: 0 0 0 0;\n",
              "      width: 32px;\n",
              "    }\n",
              "\n",
              "    .colab-df-convert:hover {\n",
              "      background-color: #E2EBFA;\n",
              "      box-shadow: 0px 1px 2px rgba(60, 64, 67, 0.3), 0px 1px 3px 1px rgba(60, 64, 67, 0.15);\n",
              "      fill: #174EA6;\n",
              "    }\n",
              "\n",
              "    .colab-df-buttons div {\n",
              "      margin-bottom: 4px;\n",
              "    }\n",
              "\n",
              "    [theme=dark] .colab-df-convert {\n",
              "      background-color: #3B4455;\n",
              "      fill: #D2E3FC;\n",
              "    }\n",
              "\n",
              "    [theme=dark] .colab-df-convert:hover {\n",
              "      background-color: #434B5C;\n",
              "      box-shadow: 0px 1px 3px 1px rgba(0, 0, 0, 0.15);\n",
              "      filter: drop-shadow(0px 1px 2px rgba(0, 0, 0, 0.3));\n",
              "      fill: #FFFFFF;\n",
              "    }\n",
              "  </style>\n",
              "\n",
              "    <script>\n",
              "      const buttonEl =\n",
              "        document.querySelector('#df-601f1a1a-6e4e-4e1b-9f9b-9d0564c330f1 button.colab-df-convert');\n",
              "      buttonEl.style.display =\n",
              "        google.colab.kernel.accessAllowed ? 'block' : 'none';\n",
              "\n",
              "      async function convertToInteractive(key) {\n",
              "        const element = document.querySelector('#df-601f1a1a-6e4e-4e1b-9f9b-9d0564c330f1');\n",
              "        const dataTable =\n",
              "          await google.colab.kernel.invokeFunction('convertToInteractive',\n",
              "                                                    [key], {});\n",
              "        if (!dataTable) return;\n",
              "\n",
              "        const docLinkHtml = 'Like what you see? Visit the ' +\n",
              "          '<a target=\"_blank\" href=https://colab.research.google.com/notebooks/data_table.ipynb>data table notebook</a>'\n",
              "          + ' to learn more about interactive tables.';\n",
              "        element.innerHTML = '';\n",
              "        dataTable['output_type'] = 'display_data';\n",
              "        await google.colab.output.renderOutput(dataTable, element);\n",
              "        const docLink = document.createElement('div');\n",
              "        docLink.innerHTML = docLinkHtml;\n",
              "        element.appendChild(docLink);\n",
              "      }\n",
              "    </script>\n",
              "  </div>\n",
              "\n",
              "\n",
              "<div id=\"df-ad6a38cd-d623-43ce-9d79-3bf02140bb4c\">\n",
              "  <button class=\"colab-df-quickchart\" onclick=\"quickchart('df-ad6a38cd-d623-43ce-9d79-3bf02140bb4c')\"\n",
              "            title=\"Suggest charts\"\n",
              "            style=\"display:none;\">\n",
              "\n",
              "<svg xmlns=\"http://www.w3.org/2000/svg\" height=\"24px\"viewBox=\"0 0 24 24\"\n",
              "     width=\"24px\">\n",
              "    <g>\n",
              "        <path d=\"M19 3H5c-1.1 0-2 .9-2 2v14c0 1.1.9 2 2 2h14c1.1 0 2-.9 2-2V5c0-1.1-.9-2-2-2zM9 17H7v-7h2v7zm4 0h-2V7h2v10zm4 0h-2v-4h2v4z\"/>\n",
              "    </g>\n",
              "</svg>\n",
              "  </button>\n",
              "\n",
              "<style>\n",
              "  .colab-df-quickchart {\n",
              "      --bg-color: #E8F0FE;\n",
              "      --fill-color: #1967D2;\n",
              "      --hover-bg-color: #E2EBFA;\n",
              "      --hover-fill-color: #174EA6;\n",
              "      --disabled-fill-color: #AAA;\n",
              "      --disabled-bg-color: #DDD;\n",
              "  }\n",
              "\n",
              "  [theme=dark] .colab-df-quickchart {\n",
              "      --bg-color: #3B4455;\n",
              "      --fill-color: #D2E3FC;\n",
              "      --hover-bg-color: #434B5C;\n",
              "      --hover-fill-color: #FFFFFF;\n",
              "      --disabled-bg-color: #3B4455;\n",
              "      --disabled-fill-color: #666;\n",
              "  }\n",
              "\n",
              "  .colab-df-quickchart {\n",
              "    background-color: var(--bg-color);\n",
              "    border: none;\n",
              "    border-radius: 50%;\n",
              "    cursor: pointer;\n",
              "    display: none;\n",
              "    fill: var(--fill-color);\n",
              "    height: 32px;\n",
              "    padding: 0;\n",
              "    width: 32px;\n",
              "  }\n",
              "\n",
              "  .colab-df-quickchart:hover {\n",
              "    background-color: var(--hover-bg-color);\n",
              "    box-shadow: 0 1px 2px rgba(60, 64, 67, 0.3), 0 1px 3px 1px rgba(60, 64, 67, 0.15);\n",
              "    fill: var(--button-hover-fill-color);\n",
              "  }\n",
              "\n",
              "  .colab-df-quickchart-complete:disabled,\n",
              "  .colab-df-quickchart-complete:disabled:hover {\n",
              "    background-color: var(--disabled-bg-color);\n",
              "    fill: var(--disabled-fill-color);\n",
              "    box-shadow: none;\n",
              "  }\n",
              "\n",
              "  .colab-df-spinner {\n",
              "    border: 2px solid var(--fill-color);\n",
              "    border-color: transparent;\n",
              "    border-bottom-color: var(--fill-color);\n",
              "    animation:\n",
              "      spin 1s steps(1) infinite;\n",
              "  }\n",
              "\n",
              "  @keyframes spin {\n",
              "    0% {\n",
              "      border-color: transparent;\n",
              "      border-bottom-color: var(--fill-color);\n",
              "      border-left-color: var(--fill-color);\n",
              "    }\n",
              "    20% {\n",
              "      border-color: transparent;\n",
              "      border-left-color: var(--fill-color);\n",
              "      border-top-color: var(--fill-color);\n",
              "    }\n",
              "    30% {\n",
              "      border-color: transparent;\n",
              "      border-left-color: var(--fill-color);\n",
              "      border-top-color: var(--fill-color);\n",
              "      border-right-color: var(--fill-color);\n",
              "    }\n",
              "    40% {\n",
              "      border-color: transparent;\n",
              "      border-right-color: var(--fill-color);\n",
              "      border-top-color: var(--fill-color);\n",
              "    }\n",
              "    60% {\n",
              "      border-color: transparent;\n",
              "      border-right-color: var(--fill-color);\n",
              "    }\n",
              "    80% {\n",
              "      border-color: transparent;\n",
              "      border-right-color: var(--fill-color);\n",
              "      border-bottom-color: var(--fill-color);\n",
              "    }\n",
              "    90% {\n",
              "      border-color: transparent;\n",
              "      border-bottom-color: var(--fill-color);\n",
              "    }\n",
              "  }\n",
              "</style>\n",
              "\n",
              "  <script>\n",
              "    async function quickchart(key) {\n",
              "      const quickchartButtonEl =\n",
              "        document.querySelector('#' + key + ' button');\n",
              "      quickchartButtonEl.disabled = true;  // To prevent multiple clicks.\n",
              "      quickchartButtonEl.classList.add('colab-df-spinner');\n",
              "      try {\n",
              "        const charts = await google.colab.kernel.invokeFunction(\n",
              "            'suggestCharts', [key], {});\n",
              "      } catch (error) {\n",
              "        console.error('Error during call to suggestCharts:', error);\n",
              "      }\n",
              "      quickchartButtonEl.classList.remove('colab-df-spinner');\n",
              "      quickchartButtonEl.classList.add('colab-df-quickchart-complete');\n",
              "    }\n",
              "    (() => {\n",
              "      let quickchartButtonEl =\n",
              "        document.querySelector('#df-ad6a38cd-d623-43ce-9d79-3bf02140bb4c button');\n",
              "      quickchartButtonEl.style.display =\n",
              "        google.colab.kernel.accessAllowed ? 'block' : 'none';\n",
              "    })();\n",
              "  </script>\n",
              "</div>\n",
              "\n",
              "    </div>\n",
              "  </div>\n"
            ]
          },
          "metadata": {},
          "execution_count": 43
        }
      ],
      "source": [
        "df.head()"
      ]
    },
    {
      "cell_type": "code",
      "execution_count": 44,
      "id": "85935249",
      "metadata": {
        "colab": {
          "base_uri": "https://localhost:8080/",
          "height": 467
        },
        "id": "85935249",
        "outputId": "b4af3c9d-00e8-4782-b8c4-927cdc4b1302"
      },
      "outputs": [
        {
          "output_type": "display_data",
          "data": {
            "text/plain": [
              "<Figure size 640x480 with 1 Axes>"
            ],
            "image/png": "[encoded data removed]"
          },
          "metadata": {}
        }
      ],
      "source": [
        "ct = pd.crosstab(df['color'], df['success_indicator'])\n",
        "ct.plot(kind='bar', stacked=True)\n",
        "plt.xlabel('Color')\n",
        "plt.ylabel('Count')\n",
        "plt.title('Stacked Bar Plot of Color and Success Indicator')\n",
        "plt.show()"
      ]
    },
    {
      "cell_type": "code",
      "execution_count": 45,
      "id": "a00c3859",
      "metadata": {
        "colab": {
          "base_uri": "https://localhost:8080/"
        },
        "id": "a00c3859",
        "outputId": "76486e86-abc2-458b-da2c-57269a48154b"
      },
      "outputs": [
        {
          "output_type": "execute_result",
          "data": {
            "text/plain": [
              "(0, 5)"
            ]
          },
          "metadata": {},
          "execution_count": 45
        }
      ],
      "source": [
        "df[df['color'] == 0].shape # 812\n",
        "df[(df['color'] == 0  ) & (df['success_indicator'] == 1)].shape #623\n",
        "#when product color is Black then percent of sucess indicator = TOP will be 76.72%"
      ]
    },
    {
      "cell_type": "code",
      "execution_count": 46,
      "id": "0130b6c4",
      "metadata": {
        "colab": {
          "base_uri": "https://localhost:8080/"
        },
        "id": "0130b6c4",
        "outputId": "4fd56ad8-8da0-4096-aa34-489b3220aef2"
      },
      "outputs": [
        {
          "output_type": "execute_result",
          "data": {
            "text/plain": [
              "(0, 5)"
            ]
          },
          "metadata": {},
          "execution_count": 46
        }
      ],
      "source": [
        "df[df['color'] == 1].shape # 1244\n",
        "df[(df['color'] == 1  ) & (df['success_indicator'] == 1)].shape #912\n",
        "#when product color is Blue then percent of sucess indicator = TOP will be 73.31%"
      ]
    },
    {
      "cell_type": "code",
      "execution_count": 47,
      "id": "ae2e1a25",
      "metadata": {
        "colab": {
          "base_uri": "https://localhost:8080/"
        },
        "id": "ae2e1a25",
        "outputId": "0db670c2-ab1d-4eb2-df79-c09f9e574f7c"
      },
      "outputs": [
        {
          "output_type": "execute_result",
          "data": {
            "text/plain": [
              "(0, 5)"
            ]
          },
          "metadata": {},
          "execution_count": 47
        }
      ],
      "source": [
        "df[df['color'] == 2].shape # 585\n",
        "df[(df['color'] == 2  ) & (df['success_indicator'] == 1)].shape #406\n",
        "#when product color is Brown then percent of sucess indicator = TOP will be 69.47%"
      ]
    },
    {
      "cell_type": "code",
      "execution_count": 48,
      "id": "89db0019",
      "metadata": {
        "colab": {
          "base_uri": "https://localhost:8080/"
        },
        "id": "89db0019",
        "outputId": "57dddeec-ba5b-41b3-b79b-8ebaa5f5c854"
      },
      "outputs": [
        {
          "output_type": "execute_result",
          "data": {
            "text/plain": [
              "(0, 5)"
            ]
          },
          "metadata": {},
          "execution_count": 48
        }
      ],
      "source": [
        "df[df['color'] == 3].shape # 728\n",
        "df[(df['color'] == 3  ) & (df['success_indicator'] == 1)].shape #511\n",
        "#when product color is Green then percent of sucess indicator = TOP will be 70.19%"
      ]
    },
    {
      "cell_type": "code",
      "execution_count": 49,
      "id": "4f515ff4",
      "metadata": {
        "colab": {
          "base_uri": "https://localhost:8080/"
        },
        "id": "4f515ff4",
        "outputId": "70594c0d-fac5-4be1-e071-4ab547c53672"
      },
      "outputs": [
        {
          "output_type": "execute_result",
          "data": {
            "text/plain": [
              "(0, 5)"
            ]
          },
          "metadata": {},
          "execution_count": 49
        }
      ],
      "source": [
        "df[df['color'] == 4].shape # 1443\n",
        "df[(df['color'] == 4 ) & (df['success_indicator'] == 1)].shape #735\n",
        "#when product color is Multi-Color then percent of sucess indicator = TOP will be 50.93%"
      ]
    },
    {
      "cell_type": "code",
      "execution_count": 50,
      "id": "4114c0c3",
      "metadata": {
        "colab": {
          "base_uri": "https://localhost:8080/"
        },
        "id": "4114c0c3",
        "outputId": "11a34c89-19dd-4777-8d07-f74fa5452397"
      },
      "outputs": [
        {
          "output_type": "execute_result",
          "data": {
            "text/plain": [
              "(0, 5)"
            ]
          },
          "metadata": {},
          "execution_count": 50
        }
      ],
      "source": [
        "df[df['color'] == 5].shape # 592\n",
        "df[(df['color'] == 5 ) & (df['success_indicator'] == 1)].shape #402\n",
        "#when product color is Orange then percent of sucess indicator = TOP will be 67.90%"
      ]
    },
    {
      "cell_type": "code",
      "execution_count": 51,
      "id": "3e6f1036",
      "metadata": {
        "colab": {
          "base_uri": "https://localhost:8080/"
        },
        "id": "3e6f1036",
        "outputId": "ac9718b0-db26-4862-c1b9-42e5d51c5aa1"
      },
      "outputs": [
        {
          "output_type": "execute_result",
          "data": {
            "text/plain": [
              "(0, 5)"
            ]
          },
          "metadata": {},
          "execution_count": 51
        }
      ],
      "source": [
        "df[df['color'] == 6].shape # 412\n",
        "df[(df['color'] == 6 ) & (df['success_indicator'] == 1)].shape #325\n",
        "#when product color is Pink then percent of sucess indicator = TOP will be 78.88%"
      ]
    },
    {
      "cell_type": "code",
      "execution_count": 52,
      "id": "320a8c79",
      "metadata": {
        "colab": {
          "base_uri": "https://localhost:8080/"
        },
        "id": "320a8c79",
        "outputId": "ae0536e8-83b9-4183-e0f7-347a6936753f"
      },
      "outputs": [
        {
          "output_type": "execute_result",
          "data": {
            "text/plain": [
              "(0, 5)"
            ]
          },
          "metadata": {},
          "execution_count": 52
        }
      ],
      "source": [
        "df[df['color'] == 7].shape #776\n",
        "df[(df['color'] == 7 ) & (df['success_indicator'] == 1)].shape #359\n",
        "#when product color is red then percent of sucess indicator = TOP will be 46.26%"
      ]
    },
    {
      "cell_type": "code",
      "execution_count": 53,
      "id": "1d6ae489",
      "metadata": {
        "colab": {
          "base_uri": "https://localhost:8080/"
        },
        "id": "1d6ae489",
        "outputId": "f55223b2-00b4-49de-f41c-84f6b9641fc4"
      },
      "outputs": [
        {
          "output_type": "execute_result",
          "data": {
            "text/plain": [
              "(0, 5)"
            ]
          },
          "metadata": {},
          "execution_count": 53
        }
      ],
      "source": [
        "df[df['color'] == 8].shape # 352\n",
        "df[(df['color'] == 8 ) & (df['success_indicator'] == 1)].shape #263\n",
        "#when product color is White then percent of sucess indicator = TOP will be 74.71%"
      ]
    },
    {
      "cell_type": "code",
      "execution_count": 54,
      "id": "8d6aa962",
      "metadata": {
        "colab": {
          "base_uri": "https://localhost:8080/"
        },
        "id": "8d6aa962",
        "outputId": "e7e4889d-2cf6-4086-a8df-f2d7f8af76cc"
      },
      "outputs": [
        {
          "output_type": "execute_result",
          "data": {
            "text/plain": [
              "(0, 5)"
            ]
          },
          "metadata": {},
          "execution_count": 54
        }
      ],
      "source": [
        "df[df['color'] == 9].shape # 1056\n",
        "df[(df['color'] == 9 ) & (df['success_indicator'] == 1)].shape #649\n",
        "#when product color is Yellow then percent of sucess indicator = TOP will be 61.45%"
      ]
    },
    {
      "cell_type": "code",
      "execution_count": null,
      "id": "ed1d23bb",
      "metadata": {
        "id": "ed1d23bb"
      },
      "outputs": [],
      "source": [
        "\n"
      ]
    },
    {
      "cell_type": "code",
      "execution_count": null,
      "id": "2dd4b550",
      "metadata": {
        "id": "2dd4b550"
      },
      "outputs": [],
      "source": []
    },
    {
      "cell_type": "code",
      "execution_count": null,
      "id": "dfb957c5",
      "metadata": {
        "id": "dfb957c5"
      },
      "outputs": [],
      "source": []
    },
    {
      "cell_type": "markdown",
      "id": "f08ca33d",
      "metadata": {
        "id": "f08ca33d"
      },
      "source": [
        "# Analysis on :  stars feature"
      ]
    },
    {
      "cell_type": "markdown",
      "id": "ef4db6e8",
      "metadata": {
        "id": "ef4db6e8"
      },
      "source": [
        "Here based on domain knowledge or as per mentioned in pdf of this problem we can convert stars into two bins\n",
        "1st bin will contain all stars <=3 and will be for class 'FLOP' will assign it digit 0\n",
        "2nd bin will contain all stars >3 and will be for class 'TOP' and will assign it digit 1"
      ]
    },
    {
      "cell_type": "code",
      "execution_count": 55,
      "id": "30a6e77d",
      "metadata": {
        "colab": {
          "base_uri": "https://localhost:8080/"
        },
        "id": "30a6e77d",
        "outputId": "dc558d3a-45a9-404c-c025-e93cb8ad90e2"
      },
      "outputs": [
        {
          "output_type": "stream",
          "name": "stdout",
          "text": [
            "<class 'pandas.core.frame.DataFrame'>\n",
            "RangeIndex: 8000 entries, 0 to 7999\n",
            "Data columns (total 5 columns):\n",
            " #   Column             Non-Null Count  Dtype  \n",
            "---  ------             --------------  -----  \n",
            " 0   category           8000 non-null   int64  \n",
            " 1   main_promotion     8000 non-null   int64  \n",
            " 2   color              8000 non-null   int64  \n",
            " 3   stars              8000 non-null   float64\n",
            " 4   success_indicator  8000 non-null   object \n",
            "dtypes: float64(1), int64(3), object(1)\n",
            "memory usage: 312.6+ KB\n"
          ]
        }
      ],
      "source": [
        "df.info() #original datatype of stars column is object but for num condition we have to convert it into float"
      ]
    },
    {
      "cell_type": "code",
      "execution_count": 56,
      "id": "96b5c198",
      "metadata": {
        "id": "96b5c198"
      },
      "outputs": [],
      "source": [
        "# Change data type of \"Stars\" from object to float\n",
        "df['stars'] = df['stars'].astype(float)"
      ]
    },
    {
      "cell_type": "code",
      "execution_count": 57,
      "id": "09d7f8e5",
      "metadata": {
        "colab": {
          "base_uri": "https://localhost:8080/"
        },
        "id": "09d7f8e5",
        "outputId": "09b9ea45-c683-4673-f5ac-f150d97605a8"
      },
      "outputs": [
        {
          "output_type": "stream",
          "name": "stdout",
          "text": [
            "<class 'pandas.core.frame.DataFrame'>\n",
            "RangeIndex: 8000 entries, 0 to 7999\n",
            "Data columns (total 5 columns):\n",
            " #   Column             Non-Null Count  Dtype  \n",
            "---  ------             --------------  -----  \n",
            " 0   category           8000 non-null   int64  \n",
            " 1   main_promotion     8000 non-null   int64  \n",
            " 2   color              8000 non-null   int64  \n",
            " 3   stars              8000 non-null   float64\n",
            " 4   success_indicator  8000 non-null   object \n",
            "dtypes: float64(1), int64(3), object(1)\n",
            "memory usage: 312.6+ KB\n"
          ]
        }
      ],
      "source": [
        "df.info()"
      ]
    },
    {
      "cell_type": "code",
      "execution_count": 58,
      "id": "c3b16dbd",
      "metadata": {
        "id": "c3b16dbd"
      },
      "outputs": [],
      "source": [
        "df['stars'] = np.where(df['stars'] <= 3, 0, df['stars'])\n",
        "#BIN 1st where star <=3 will assign them as 0 as most of them are 'FLOP'"
      ]
    },
    {
      "cell_type": "code",
      "execution_count": 59,
      "id": "1a93439d",
      "metadata": {
        "id": "1a93439d"
      },
      "outputs": [],
      "source": [
        "df['stars'] = np.where(df['stars'] > 3, 1, df['stars'])\n",
        "#BIN 2nd where star > 3 will assign them as 1 as most of them are 'TOP'"
      ]
    },
    {
      "cell_type": "code",
      "execution_count": 60,
      "id": "200b7bda",
      "metadata": {
        "colab": {
          "base_uri": "https://localhost:8080/"
        },
        "id": "200b7bda",
        "outputId": "b2dbe191-5a77-4a03-eae4-79eabad36081"
      },
      "outputs": [
        {
          "output_type": "execute_result",
          "data": {
            "text/plain": [
              "1.0    5278\n",
              "0.0    2722\n",
              "Name: stars, dtype: int64"
            ]
          },
          "metadata": {},
          "execution_count": 60
        }
      ],
      "source": [
        "df['stars'].value_counts()"
      ]
    },
    {
      "cell_type": "code",
      "execution_count": 61,
      "id": "cc051ca9",
      "metadata": {
        "colab": {
          "base_uri": "https://localhost:8080/"
        },
        "id": "cc051ca9",
        "outputId": "d3985cde-92d4-4e56-ba60-b9f4dddb2d0e"
      },
      "outputs": [
        {
          "output_type": "stream",
          "name": "stdout",
          "text": [
            "<class 'pandas.core.frame.DataFrame'>\n",
            "RangeIndex: 8000 entries, 0 to 7999\n",
            "Data columns (total 5 columns):\n",
            " #   Column             Non-Null Count  Dtype  \n",
            "---  ------             --------------  -----  \n",
            " 0   category           8000 non-null   int64  \n",
            " 1   main_promotion     8000 non-null   int64  \n",
            " 2   color              8000 non-null   int64  \n",
            " 3   stars              8000 non-null   float64\n",
            " 4   success_indicator  8000 non-null   object \n",
            "dtypes: float64(1), int64(3), object(1)\n",
            "memory usage: 312.6+ KB\n"
          ]
        }
      ],
      "source": [
        "df.info()"
      ]
    },
    {
      "cell_type": "code",
      "execution_count": 62,
      "id": "ac377c40",
      "metadata": {
        "colab": {
          "base_uri": "https://localhost:8080/",
          "height": 206
        },
        "id": "ac377c40",
        "outputId": "1220d9ea-d90d-4794-860f-e04fe25ac924"
      },
      "outputs": [
        {
          "output_type": "execute_result",
          "data": {
            "text/plain": [
              "   category  main_promotion  color  stars success_indicator\n",
              "0         5               0      3    1.0              flop\n",
              "1         1               1      7    0.0              flop\n",
              "2         3               0      7    1.0               top\n",
              "3         2               1      1    1.0              flop\n",
              "4         1               1      3    1.0               top"
            ],
            "text/html": [
              "\n",
              "  <div id=\"df-5e5a7087-44a2-4e09-b103-a8a0472a52e7\" class=\"colab-df-container\">\n",
              "    <div>\n",
              "<style scoped>\n",
              "    .dataframe tbody tr th:only-of-type {\n",
              "        vertical-align: middle;\n",
              "    }\n",
              "\n",
              "    .dataframe tbody tr th {\n",
              "        vertical-align: top;\n",
              "    }\n",
              "\n",
              "    .dataframe thead th {\n",
              "        text-align: right;\n",
              "    }\n",
              "</style>\n",
              "<table border=\"1\" class=\"dataframe\">\n",
              "  <thead>\n",
              "    <tr style=\"text-align: right;\">\n",
              "      <th></th>\n",
              "      <th>category</th>\n",
              "      <th>main_promotion</th>\n",
              "      <th>color</th>\n",
              "      <th>stars</th>\n",
              "      <th>success_indicator</th>\n",
              "    </tr>\n",
              "  </thead>\n",
              "  <tbody>\n",
              "    <tr>\n",
              "      <th>0</th>\n",
              "      <td>5</td>\n",
              "      <td>0</td>\n",
              "      <td>3</td>\n",
              "      <td>1.0</td>\n",
              "      <td>flop</td>\n",
              "    </tr>\n",
              "    <tr>\n",
              "      <th>1</th>\n",
              "      <td>1</td>\n",
              "      <td>1</td>\n",
              "      <td>7</td>\n",
              "      <td>0.0</td>\n",
              "      <td>flop</td>\n",
              "    </tr>\n",
              "    <tr>\n",
              "      <th>2</th>\n",
              "      <td>3</td>\n",
              "      <td>0</td>\n",
              "      <td>7</td>\n",
              "      <td>1.0</td>\n",
              "      <td>top</td>\n",
              "    </tr>\n",
              "    <tr>\n",
              "      <th>3</th>\n",
              "      <td>2</td>\n",
              "      <td>1</td>\n",
              "      <td>1</td>\n",
              "      <td>1.0</td>\n",
              "      <td>flop</td>\n",
              "    </tr>\n",
              "    <tr>\n",
              "      <th>4</th>\n",
              "      <td>1</td>\n",
              "      <td>1</td>\n",
              "      <td>3</td>\n",
              "      <td>1.0</td>\n",
              "      <td>top</td>\n",
              "    </tr>\n",
              "  </tbody>\n",
              "</table>\n",
              "</div>\n",
              "    <div class=\"colab-df-buttons\">\n",
              "\n",
              "  <div class=\"colab-df-container\">\n",
              "    <button class=\"colab-df-convert\" onclick=\"convertToInteractive('df-5e5a7087-44a2-4e09-b103-a8a0472a52e7')\"\n",
              "            title=\"Convert this dataframe to an interactive table.\"\n",
              "            style=\"display:none;\">\n",
              "\n",
              "  <svg xmlns=\"http://www.w3.org/2000/svg\" height=\"24px\" viewBox=\"0 -960 960 960\">\n",
              "    <path d=\"M120-120v-720h720v720H120Zm60-500h600v-160H180v160Zm220 220h160v-160H400v160Zm0 220h160v-160H400v160ZM180-400h160v-160H180v160Zm440 0h160v-160H620v160ZM180-180h160v-160H180v160Zm440 0h160v-160H620v160Z\"/>\n",
              "  </svg>\n",
              "    </button>\n",
              "\n",
              "  <style>\n",
              "    .colab-df-container {\n",
              "      display:flex;\n",
              "      gap: 12px;\n",
              "    }\n",
              "\n",
              "    .colab-df-convert {\n",
              "      background-color: #E8F0FE;\n",
              "      border: none;\n",
              "      border-radius: 50%;\n",
              "      cursor: pointer;\n",
              "      display: none;\n",
              "      fill: #1967D2;\n",
              "      height: 32px;\n",
              "      padding: 0 0 0 0;\n",
              "      width: 32px;\n",
              "    }\n",
              "\n",
              "    .colab-df-convert:hover {\n",
              "      background-color: #E2EBFA;\n",
              "      box-shadow: 0px 1px 2px rgba(60, 64, 67, 0.3), 0px 1px 3px 1px rgba(60, 64, 67, 0.15);\n",
              "      fill: #174EA6;\n",
              "    }\n",
              "\n",
              "    .colab-df-buttons div {\n",
              "      margin-bottom: 4px;\n",
              "    }\n",
              "\n",
              "    [theme=dark] .colab-df-convert {\n",
              "      background-color: #3B4455;\n",
              "      fill: #D2E3FC;\n",
              "    }\n",
              "\n",
              "    [theme=dark] .colab-df-convert:hover {\n",
              "      background-color: #434B5C;\n",
              "      box-shadow: 0px 1px 3px 1px rgba(0, 0, 0, 0.15);\n",
              "      filter: drop-shadow(0px 1px 2px rgba(0, 0, 0, 0.3));\n",
              "      fill: #FFFFFF;\n",
              "    }\n",
              "  </style>\n",
              "\n",
              "    <script>\n",
              "      const buttonEl =\n",
              "        document.querySelector('#df-5e5a7087-44a2-4e09-b103-a8a0472a52e7 button.colab-df-convert');\n",
              "      buttonEl.style.display =\n",
              "        google.colab.kernel.accessAllowed ? 'block' : 'none';\n",
              "\n",
              "      async function convertToInteractive(key) {\n",
              "        const element = document.querySelector('#df-5e5a7087-44a2-4e09-b103-a8a0472a52e7');\n",
              "        const dataTable =\n",
              "          await google.colab.kernel.invokeFunction('convertToInteractive',\n",
              "                                                    [key], {});\n",
              "        if (!dataTable) return;\n",
              "\n",
              "        const docLinkHtml = 'Like what you see? Visit the ' +\n",
              "          '<a target=\"_blank\" href=https://colab.research.google.com/notebooks/data_table.ipynb>data table notebook</a>'\n",
              "          + ' to learn more about interactive tables.';\n",
              "        element.innerHTML = '';\n",
              "        dataTable['output_type'] = 'display_data';\n",
              "        await google.colab.output.renderOutput(dataTable, element);\n",
              "        const docLink = document.createElement('div');\n",
              "        docLink.innerHTML = docLinkHtml;\n",
              "        element.appendChild(docLink);\n",
              "      }\n",
              "    </script>\n",
              "  </div>\n",
              "\n",
              "\n",
              "<div id=\"df-e91bfd28-71b5-40f2-b2ce-09c74943a90a\">\n",
              "  <button class=\"colab-df-quickchart\" onclick=\"quickchart('df-e91bfd28-71b5-40f2-b2ce-09c74943a90a')\"\n",
              "            title=\"Suggest charts\"\n",
              "            style=\"display:none;\">\n",
              "\n",
              "<svg xmlns=\"http://www.w3.org/2000/svg\" height=\"24px\"viewBox=\"0 0 24 24\"\n",
              "     width=\"24px\">\n",
              "    <g>\n",
              "        <path d=\"M19 3H5c-1.1 0-2 .9-2 2v14c0 1.1.9 2 2 2h14c1.1 0 2-.9 2-2V5c0-1.1-.9-2-2-2zM9 17H7v-7h2v7zm4 0h-2V7h2v10zm4 0h-2v-4h2v4z\"/>\n",
              "    </g>\n",
              "</svg>\n",
              "  </button>\n",
              "\n",
              "<style>\n",
              "  .colab-df-quickchart {\n",
              "      --bg-color: #E8F0FE;\n",
              "      --fill-color: #1967D2;\n",
              "      --hover-bg-color: #E2EBFA;\n",
              "      --hover-fill-color: #174EA6;\n",
              "      --disabled-fill-color: #AAA;\n",
              "      --disabled-bg-color: #DDD;\n",
              "  }\n",
              "\n",
              "  [theme=dark] .colab-df-quickchart {\n",
              "      --bg-color: #3B4455;\n",
              "      --fill-color: #D2E3FC;\n",
              "      --hover-bg-color: #434B5C;\n",
              "      --hover-fill-color: #FFFFFF;\n",
              "      --disabled-bg-color: #3B4455;\n",
              "      --disabled-fill-color: #666;\n",
              "  }\n",
              "\n",
              "  .colab-df-quickchart {\n",
              "    background-color: var(--bg-color);\n",
              "    border: none;\n",
              "    border-radius: 50%;\n",
              "    cursor: pointer;\n",
              "    display: none;\n",
              "    fill: var(--fill-color);\n",
              "    height: 32px;\n",
              "    padding: 0;\n",
              "    width: 32px;\n",
              "  }\n",
              "\n",
              "  .colab-df-quickchart:hover {\n",
              "    background-color: var(--hover-bg-color);\n",
              "    box-shadow: 0 1px 2px rgba(60, 64, 67, 0.3), 0 1px 3px 1px rgba(60, 64, 67, 0.15);\n",
              "    fill: var(--button-hover-fill-color);\n",
              "  }\n",
              "\n",
              "  .colab-df-quickchart-complete:disabled,\n",
              "  .colab-df-quickchart-complete:disabled:hover {\n",
              "    background-color: var(--disabled-bg-color);\n",
              "    fill: var(--disabled-fill-color);\n",
              "    box-shadow: none;\n",
              "  }\n",
              "\n",
              "  .colab-df-spinner {\n",
              "    border: 2px solid var(--fill-color);\n",
              "    border-color: transparent;\n",
              "    border-bottom-color: var(--fill-color);\n",
              "    animation:\n",
              "      spin 1s steps(1) infinite;\n",
              "  }\n",
              "\n",
              "  @keyframes spin {\n",
              "    0% {\n",
              "      border-color: transparent;\n",
              "      border-bottom-color: var(--fill-color);\n",
              "      border-left-color: var(--fill-color);\n",
              "    }\n",
              "    20% {\n",
              "      border-color: transparent;\n",
              "      border-left-color: var(--fill-color);\n",
              "      border-top-color: var(--fill-color);\n",
              "    }\n",
              "    30% {\n",
              "      border-color: transparent;\n",
              "      border-left-color: var(--fill-color);\n",
              "      border-top-color: var(--fill-color);\n",
              "      border-right-color: var(--fill-color);\n",
              "    }\n",
              "    40% {\n",
              "      border-color: transparent;\n",
              "      border-right-color: var(--fill-color);\n",
              "      border-top-color: var(--fill-color);\n",
              "    }\n",
              "    60% {\n",
              "      border-color: transparent;\n",
              "      border-right-color: var(--fill-color);\n",
              "    }\n",
              "    80% {\n",
              "      border-color: transparent;\n",
              "      border-right-color: var(--fill-color);\n",
              "      border-bottom-color: var(--fill-color);\n",
              "    }\n",
              "    90% {\n",
              "      border-color: transparent;\n",
              "      border-bottom-color: var(--fill-color);\n",
              "    }\n",
              "  }\n",
              "</style>\n",
              "\n",
              "  <script>\n",
              "    async function quickchart(key) {\n",
              "      const quickchartButtonEl =\n",
              "        document.querySelector('#' + key + ' button');\n",
              "      quickchartButtonEl.disabled = true;  // To prevent multiple clicks.\n",
              "      quickchartButtonEl.classList.add('colab-df-spinner');\n",
              "      try {\n",
              "        const charts = await google.colab.kernel.invokeFunction(\n",
              "            'suggestCharts', [key], {});\n",
              "      } catch (error) {\n",
              "        console.error('Error during call to suggestCharts:', error);\n",
              "      }\n",
              "      quickchartButtonEl.classList.remove('colab-df-spinner');\n",
              "      quickchartButtonEl.classList.add('colab-df-quickchart-complete');\n",
              "    }\n",
              "    (() => {\n",
              "      let quickchartButtonEl =\n",
              "        document.querySelector('#df-e91bfd28-71b5-40f2-b2ce-09c74943a90a button');\n",
              "      quickchartButtonEl.style.display =\n",
              "        google.colab.kernel.accessAllowed ? 'block' : 'none';\n",
              "    })();\n",
              "  </script>\n",
              "</div>\n",
              "\n",
              "    </div>\n",
              "  </div>\n"
            ]
          },
          "metadata": {},
          "execution_count": 62
        }
      ],
      "source": [
        "df.head()"
      ]
    },
    {
      "cell_type": "code",
      "source": [],
      "metadata": {
        "id": "QwZIM-jE6pRG"
      },
      "id": "QwZIM-jE6pRG",
      "execution_count": null,
      "outputs": []
    },
    {
      "cell_type": "code",
      "execution_count": 63,
      "id": "548b24c4",
      "metadata": {
        "colab": {
          "base_uri": "https://localhost:8080/"
        },
        "id": "548b24c4",
        "outputId": "4a6ba7a4-bf03-41f4-d8ce-8f45de393bf7"
      },
      "outputs": [
        {
          "output_type": "execute_result",
          "data": {
            "text/plain": [
              "(0, 5)"
            ]
          },
          "metadata": {},
          "execution_count": 63
        }
      ],
      "source": [
        "df[df['stars'] == 1].shape # 5278\n",
        "df[(df['stars'] == 1 ) & (df['success_indicator'] == 1)].shape #4364\n",
        "#when product star rating 1 is i.e more than 3 then percent of sucess indicator = TOP will be 82.68 %"
      ]
    },
    {
      "cell_type": "code",
      "execution_count": 64,
      "id": "1ead5341",
      "metadata": {
        "colab": {
          "base_uri": "https://localhost:8080/"
        },
        "id": "1ead5341",
        "outputId": "f5af029f-727f-4f4f-ce66-3f16a4ffc761"
      },
      "outputs": [
        {
          "output_type": "execute_result",
          "data": {
            "text/plain": [
              "(0, 5)"
            ]
          },
          "metadata": {},
          "execution_count": 64
        }
      ],
      "source": [
        "df[df['stars'] == 0].shape # 2722\n",
        "df[(df['stars'] == 0  ) & (df['success_indicator'] == 1)].shape #821\n",
        "#when product star rating  is 0 i.e less than eqaual to 3 then percent of sucess indicator = TOP will be 30 %"
      ]
    },
    {
      "cell_type": "code",
      "execution_count": null,
      "id": "675ac86e",
      "metadata": {
        "id": "675ac86e"
      },
      "outputs": [],
      "source": [
        "###############################################################################################################\n",
        "###############################################################################################################"
      ]
    },
    {
      "cell_type": "code",
      "execution_count": null,
      "id": "4603215e",
      "metadata": {
        "id": "4603215e"
      },
      "outputs": [],
      "source": []
    },
    {
      "cell_type": "code",
      "execution_count": null,
      "id": "d1dc0ed6",
      "metadata": {
        "id": "d1dc0ed6"
      },
      "outputs": [],
      "source": []
    },
    {
      "cell_type": "markdown",
      "id": "56db1f84",
      "metadata": {
        "id": "56db1f84"
      },
      "source": [
        "# Analysis on :  success_indicator feature"
      ]
    },
    {
      "cell_type": "raw",
      "id": "36df7a19",
      "metadata": {
        "id": "36df7a19"
      },
      "source": [
        "Here in target feature that is success_indicator we need to encode classes i.e TOP = 1 and FLOP = 0"
      ]
    },
    {
      "cell_type": "code",
      "execution_count": 65,
      "id": "9762c54f",
      "metadata": {
        "colab": {
          "base_uri": "https://localhost:8080/"
        },
        "id": "9762c54f",
        "outputId": "0f660e5f-7d88-4f90-83cb-acab9e7f00d6"
      },
      "outputs": [
        {
          "output_type": "execute_result",
          "data": {
            "text/plain": [
              "top     5185\n",
              "flop    2815\n",
              "Name: success_indicator, dtype: int64"
            ]
          },
          "metadata": {},
          "execution_count": 65
        }
      ],
      "source": [
        "df['success_indicator'].value_counts()"
      ]
    },
    {
      "cell_type": "code",
      "execution_count": 66,
      "id": "61e60a18",
      "metadata": {
        "id": "61e60a18"
      },
      "outputs": [],
      "source": [
        "encoder = LabelEncoder()\n",
        "df['success_indicator'] = encoder.fit_transform(df['success_indicator'])"
      ]
    },
    {
      "cell_type": "code",
      "execution_count": 67,
      "id": "7940ab20",
      "metadata": {
        "colab": {
          "base_uri": "https://localhost:8080/"
        },
        "id": "7940ab20",
        "outputId": "d07b47ec-f767-4f28-a57a-22b6a0bc8dd7"
      },
      "outputs": [
        {
          "output_type": "execute_result",
          "data": {
            "text/plain": [
              "1    5185\n",
              "0    2815\n",
              "Name: success_indicator, dtype: int64"
            ]
          },
          "metadata": {},
          "execution_count": 67
        }
      ],
      "source": [
        "df['success_indicator'].value_counts() # will encoded new target column WHERE TOP = 1 and FLOP =0"
      ]
    },
    {
      "cell_type": "code",
      "execution_count": 67,
      "id": "c7ad8777",
      "metadata": {
        "id": "c7ad8777"
      },
      "outputs": [],
      "source": []
    },
    {
      "cell_type": "code",
      "execution_count": 68,
      "id": "93123a84",
      "metadata": {
        "colab": {
          "base_uri": "https://localhost:8080/"
        },
        "id": "93123a84",
        "outputId": "bf05465a-7d40-41a5-f0ab-e3d947ce5032"
      },
      "outputs": [
        {
          "output_type": "stream",
          "name": "stdout",
          "text": [
            "<class 'pandas.core.frame.DataFrame'>\n",
            "RangeIndex: 8000 entries, 0 to 7999\n",
            "Data columns (total 5 columns):\n",
            " #   Column             Non-Null Count  Dtype  \n",
            "---  ------             --------------  -----  \n",
            " 0   category           8000 non-null   int64  \n",
            " 1   main_promotion     8000 non-null   int64  \n",
            " 2   color              8000 non-null   int64  \n",
            " 3   stars              8000 non-null   float64\n",
            " 4   success_indicator  8000 non-null   int64  \n",
            "dtypes: float64(1), int64(4)\n",
            "memory usage: 312.6 KB\n"
          ]
        }
      ],
      "source": [
        "df.info()"
      ]
    },
    {
      "cell_type": "code",
      "execution_count": 69,
      "id": "e8bcc7b0",
      "metadata": {
        "colab": {
          "base_uri": "https://localhost:8080/"
        },
        "id": "e8bcc7b0",
        "outputId": "38149f1d-2a45-42fe-c452-2a6ffbab8121"
      },
      "outputs": [
        {
          "output_type": "execute_result",
          "data": {
            "text/plain": [
              "(8000, 5)"
            ]
          },
          "metadata": {},
          "execution_count": 69
        }
      ],
      "source": [
        "df.shape"
      ]
    },
    {
      "cell_type": "code",
      "execution_count": null,
      "id": "592034f1",
      "metadata": {
        "id": "592034f1"
      },
      "outputs": [],
      "source": []
    },
    {
      "cell_type": "markdown",
      "id": "daacd0ec",
      "metadata": {
        "id": "daacd0ec"
      },
      "source": [
        "# checking for Balancing and imbalancing of dataframe"
      ]
    },
    {
      "cell_type": "code",
      "execution_count": 70,
      "id": "bbd689ed",
      "metadata": {
        "colab": {
          "base_uri": "https://localhost:8080/"
        },
        "id": "bbd689ed",
        "outputId": "fb7b8eef-f0ef-4de6-afdb-ccccb63fcc9d"
      },
      "outputs": [
        {
          "output_type": "execute_result",
          "data": {
            "text/plain": [
              "1    5185\n",
              "0    2815\n",
              "Name: success_indicator, dtype: int64"
            ]
          },
          "metadata": {},
          "execution_count": 70
        }
      ],
      "source": [
        "df['success_indicator'].value_counts()"
      ]
    },
    {
      "cell_type": "code",
      "execution_count": 71,
      "id": "1a8f19cd",
      "metadata": {
        "colab": {
          "base_uri": "https://localhost:8080/"
        },
        "id": "1a8f19cd",
        "outputId": "5fe67dba-4303-48ca-9e95-a16cdc123924"
      },
      "outputs": [
        {
          "output_type": "execute_result",
          "data": {
            "text/plain": [
              "35.1875"
            ]
          },
          "metadata": {},
          "execution_count": 71
        }
      ],
      "source": [
        "(2815/8000)*100  # 35% of data belongs to 'FLOP'/0 class"
      ]
    },
    {
      "cell_type": "code",
      "execution_count": 72,
      "id": "40872be1",
      "metadata": {
        "colab": {
          "base_uri": "https://localhost:8080/"
        },
        "id": "40872be1",
        "outputId": "2d6819e8-332f-42f5-f198-502f344bd4a1"
      },
      "outputs": [
        {
          "output_type": "execute_result",
          "data": {
            "text/plain": [
              "64.8125"
            ]
          },
          "metadata": {},
          "execution_count": 72
        }
      ],
      "source": [
        "(5185/8000)*100  # 65% of data belongs to 'TOP'/1 class"
      ]
    },
    {
      "cell_type": "markdown",
      "id": "756443b7",
      "metadata": {
        "id": "756443b7"
      },
      "source": [
        "1 >> Hence data is imbalanced as data for 'FLOP' catagory / class is nearly half of 'TOP' class / category in Target  \n",
        "     feature.\n",
        "2 >> Problem with imbalaced data is that when we prepare model , our prediction will be biased towards class/category with\n",
        "     majority of data i.e, 'TOP' in our case\n",
        "3 >> we can choose various ways of balancing data ex, undersampling of majority class , oversampling of minority class ,\n",
        "     or SMOTE technique"
      ]
    },
    {
      "cell_type": "code",
      "execution_count": 73,
      "id": "511999e2",
      "metadata": {
        "id": "511999e2"
      },
      "outputs": [],
      "source": [
        "from imblearn.over_sampling import SMOTE\n",
        "x = df.drop('success_indicator', axis=1)\n",
        "y = df['success_indicator']"
      ]
    },
    {
      "cell_type": "code",
      "execution_count": 74,
      "id": "d6dcd022",
      "metadata": {
        "colab": {
          "base_uri": "https://localhost:8080/"
        },
        "id": "d6dcd022",
        "outputId": "c2938671-0864-4d29-8eea-ea2256d1bf75"
      },
      "outputs": [
        {
          "output_type": "stream",
          "name": "stdout",
          "text": [
            "       category  main_promotion  color  stars  success_indicator\n",
            "0             5               0      3    1.0                  0\n",
            "1             1               1      7    0.0                  0\n",
            "2             3               0      7    1.0                  1\n",
            "3             2               1      1    1.0                  0\n",
            "4             1               1      3    1.0                  1\n",
            "...         ...             ...    ...    ...                ...\n",
            "10365         2               1      5    0.0                  0\n",
            "10366         3               1      1    0.0                  0\n",
            "10367         5               2      0    1.0                  0\n",
            "10368         3               3      4    0.0                  0\n",
            "10369         4               0      4    0.0                  0\n",
            "\n",
            "[10370 rows x 5 columns]\n"
          ]
        }
      ],
      "source": [
        "smote = SMOTE()\n",
        "x_balanced, y_balanced = smote.fit_resample(x, y)\n",
        "df_balanced = pd.concat([x_balanced, y_balanced], axis=1)\n",
        "print(df_balanced)"
      ]
    },
    {
      "cell_type": "code",
      "execution_count": 75,
      "id": "57e30d80",
      "metadata": {
        "colab": {
          "base_uri": "https://localhost:8080/",
          "height": 206
        },
        "id": "57e30d80",
        "outputId": "17ea5869-b749-4b95-9803-d87a27c9218e"
      },
      "outputs": [
        {
          "output_type": "execute_result",
          "data": {
            "text/plain": [
              "   category  main_promotion  color  stars  success_indicator\n",
              "0         5               0      3    1.0                  0\n",
              "1         1               1      7    0.0                  0\n",
              "2         3               0      7    1.0                  1\n",
              "3         2               1      1    1.0                  0\n",
              "4         1               1      3    1.0                  1"
            ],
            "text/html": [
              "\n",
              "  <div id=\"df-d4bce51e-ff63-4ebd-93cb-93ddf5422bc2\" class=\"colab-df-container\">\n",
              "    <div>\n",
              "<style scoped>\n",
              "    .dataframe tbody tr th:only-of-type {\n",
              "        vertical-align: middle;\n",
              "    }\n",
              "\n",
              "    .dataframe tbody tr th {\n",
              "        vertical-align: top;\n",
              "    }\n",
              "\n",
              "    .dataframe thead th {\n",
              "        text-align: right;\n",
              "    }\n",
              "</style>\n",
              "<table border=\"1\" class=\"dataframe\">\n",
              "  <thead>\n",
              "    <tr style=\"text-align: right;\">\n",
              "      <th></th>\n",
              "      <th>category</th>\n",
              "      <th>main_promotion</th>\n",
              "      <th>color</th>\n",
              "      <th>stars</th>\n",
              "      <th>success_indicator</th>\n",
              "    </tr>\n",
              "  </thead>\n",
              "  <tbody>\n",
              "    <tr>\n",
              "      <th>0</th>\n",
              "      <td>5</td>\n",
              "      <td>0</td>\n",
              "      <td>3</td>\n",
              "      <td>1.0</td>\n",
              "      <td>0</td>\n",
              "    </tr>\n",
              "    <tr>\n",
              "      <th>1</th>\n",
              "      <td>1</td>\n",
              "      <td>1</td>\n",
              "      <td>7</td>\n",
              "      <td>0.0</td>\n",
              "      <td>0</td>\n",
              "    </tr>\n",
              "    <tr>\n",
              "      <th>2</th>\n",
              "      <td>3</td>\n",
              "      <td>0</td>\n",
              "      <td>7</td>\n",
              "      <td>1.0</td>\n",
              "      <td>1</td>\n",
              "    </tr>\n",
              "    <tr>\n",
              "      <th>3</th>\n",
              "      <td>2</td>\n",
              "      <td>1</td>\n",
              "      <td>1</td>\n",
              "      <td>1.0</td>\n",
              "      <td>0</td>\n",
              "    </tr>\n",
              "    <tr>\n",
              "      <th>4</th>\n",
              "      <td>1</td>\n",
              "      <td>1</td>\n",
              "      <td>3</td>\n",
              "      <td>1.0</td>\n",
              "      <td>1</td>\n",
              "    </tr>\n",
              "  </tbody>\n",
              "</table>\n",
              "</div>\n",
              "    <div class=\"colab-df-buttons\">\n",
              "\n",
              "  <div class=\"colab-df-container\">\n",
              "    <button class=\"colab-df-convert\" onclick=\"convertToInteractive('df-d4bce51e-ff63-4ebd-93cb-93ddf5422bc2')\"\n",
              "            title=\"Convert this dataframe to an interactive table.\"\n",
              "            style=\"display:none;\">\n",
              "\n",
              "  <svg xmlns=\"http://www.w3.org/2000/svg\" height=\"24px\" viewBox=\"0 -960 960 960\">\n",
              "    <path d=\"M120-120v-720h720v720H120Zm60-500h600v-160H180v160Zm220 220h160v-160H400v160Zm0 220h160v-160H400v160ZM180-400h160v-160H180v160Zm440 0h160v-160H620v160ZM180-180h160v-160H180v160Zm440 0h160v-160H620v160Z\"/>\n",
              "  </svg>\n",
              "    </button>\n",
              "\n",
              "  <style>\n",
              "    .colab-df-container {\n",
              "      display:flex;\n",
              "      gap: 12px;\n",
              "    }\n",
              "\n",
              "    .colab-df-convert {\n",
              "      background-color: #E8F0FE;\n",
              "      border: none;\n",
              "      border-radius: 50%;\n",
              "      cursor: pointer;\n",
              "      display: none;\n",
              "      fill: #1967D2;\n",
              "      height: 32px;\n",
              "      padding: 0 0 0 0;\n",
              "      width: 32px;\n",
              "    }\n",
              "\n",
              "    .colab-df-convert:hover {\n",
              "      background-color: #E2EBFA;\n",
              "      box-shadow: 0px 1px 2px rgba(60, 64, 67, 0.3), 0px 1px 3px 1px rgba(60, 64, 67, 0.15);\n",
              "      fill: #174EA6;\n",
              "    }\n",
              "\n",
              "    .colab-df-buttons div {\n",
              "      margin-bottom: 4px;\n",
              "    }\n",
              "\n",
              "    [theme=dark] .colab-df-convert {\n",
              "      background-color: #3B4455;\n",
              "      fill: #D2E3FC;\n",
              "    }\n",
              "\n",
              "    [theme=dark] .colab-df-convert:hover {\n",
              "      background-color: #434B5C;\n",
              "      box-shadow: 0px 1px 3px 1px rgba(0, 0, 0, 0.15);\n",
              "      filter: drop-shadow(0px 1px 2px rgba(0, 0, 0, 0.3));\n",
              "      fill: #FFFFFF;\n",
              "    }\n",
              "  </style>\n",
              "\n",
              "    <script>\n",
              "      const buttonEl =\n",
              "        document.querySelector('#df-d4bce51e-ff63-4ebd-93cb-93ddf5422bc2 button.colab-df-convert');\n",
              "      buttonEl.style.display =\n",
              "        google.colab.kernel.accessAllowed ? 'block' : 'none';\n",
              "\n",
              "      async function convertToInteractive(key) {\n",
              "        const element = document.querySelector('#df-d4bce51e-ff63-4ebd-93cb-93ddf5422bc2');\n",
              "        const dataTable =\n",
              "          await google.colab.kernel.invokeFunction('convertToInteractive',\n",
              "                                                    [key], {});\n",
              "        if (!dataTable) return;\n",
              "\n",
              "        const docLinkHtml = 'Like what you see? Visit the ' +\n",
              "          '<a target=\"_blank\" href=https://colab.research.google.com/notebooks/data_table.ipynb>data table notebook</a>'\n",
              "          + ' to learn more about interactive tables.';\n",
              "        element.innerHTML = '';\n",
              "        dataTable['output_type'] = 'display_data';\n",
              "        await google.colab.output.renderOutput(dataTable, element);\n",
              "        const docLink = document.createElement('div');\n",
              "        docLink.innerHTML = docLinkHtml;\n",
              "        element.appendChild(docLink);\n",
              "      }\n",
              "    </script>\n",
              "  </div>\n",
              "\n",
              "\n",
              "<div id=\"df-6b75d4bd-8b5e-49df-a608-f401e142dedf\">\n",
              "  <button class=\"colab-df-quickchart\" onclick=\"quickchart('df-6b75d4bd-8b5e-49df-a608-f401e142dedf')\"\n",
              "            title=\"Suggest charts\"\n",
              "            style=\"display:none;\">\n",
              "\n",
              "<svg xmlns=\"http://www.w3.org/2000/svg\" height=\"24px\"viewBox=\"0 0 24 24\"\n",
              "     width=\"24px\">\n",
              "    <g>\n",
              "        <path d=\"M19 3H5c-1.1 0-2 .9-2 2v14c0 1.1.9 2 2 2h14c1.1 0 2-.9 2-2V5c0-1.1-.9-2-2-2zM9 17H7v-7h2v7zm4 0h-2V7h2v10zm4 0h-2v-4h2v4z\"/>\n",
              "    </g>\n",
              "</svg>\n",
              "  </button>\n",
              "\n",
              "<style>\n",
              "  .colab-df-quickchart {\n",
              "      --bg-color: #E8F0FE;\n",
              "      --fill-color: #1967D2;\n",
              "      --hover-bg-color: #E2EBFA;\n",
              "      --hover-fill-color: #174EA6;\n",
              "      --disabled-fill-color: #AAA;\n",
              "      --disabled-bg-color: #DDD;\n",
              "  }\n",
              "\n",
              "  [theme=dark] .colab-df-quickchart {\n",
              "      --bg-color: #3B4455;\n",
              "      --fill-color: #D2E3FC;\n",
              "      --hover-bg-color: #434B5C;\n",
              "      --hover-fill-color: #FFFFFF;\n",
              "      --disabled-bg-color: #3B4455;\n",
              "      --disabled-fill-color: #666;\n",
              "  }\n",
              "\n",
              "  .colab-df-quickchart {\n",
              "    background-color: var(--bg-color);\n",
              "    border: none;\n",
              "    border-radius: 50%;\n",
              "    cursor: pointer;\n",
              "    display: none;\n",
              "    fill: var(--fill-color);\n",
              "    height: 32px;\n",
              "    padding: 0;\n",
              "    width: 32px;\n",
              "  }\n",
              "\n",
              "  .colab-df-quickchart:hover {\n",
              "    background-color: var(--hover-bg-color);\n",
              "    box-shadow: 0 1px 2px rgba(60, 64, 67, 0.3), 0 1px 3px 1px rgba(60, 64, 67, 0.15);\n",
              "    fill: var(--button-hover-fill-color);\n",
              "  }\n",
              "\n",
              "  .colab-df-quickchart-complete:disabled,\n",
              "  .colab-df-quickchart-complete:disabled:hover {\n",
              "    background-color: var(--disabled-bg-color);\n",
              "    fill: var(--disabled-fill-color);\n",
              "    box-shadow: none;\n",
              "  }\n",
              "\n",
              "  .colab-df-spinner {\n",
              "    border: 2px solid var(--fill-color);\n",
              "    border-color: transparent;\n",
              "    border-bottom-color: var(--fill-color);\n",
              "    animation:\n",
              "      spin 1s steps(1) infinite;\n",
              "  }\n",
              "\n",
              "  @keyframes spin {\n",
              "    0% {\n",
              "      border-color: transparent;\n",
              "      border-bottom-color: var(--fill-color);\n",
              "      border-left-color: var(--fill-color);\n",
              "    }\n",
              "    20% {\n",
              "      border-color: transparent;\n",
              "      border-left-color: var(--fill-color);\n",
              "      border-top-color: var(--fill-color);\n",
              "    }\n",
              "    30% {\n",
              "      border-color: transparent;\n",
              "      border-left-color: var(--fill-color);\n",
              "      border-top-color: var(--fill-color);\n",
              "      border-right-color: var(--fill-color);\n",
              "    }\n",
              "    40% {\n",
              "      border-color: transparent;\n",
              "      border-right-color: var(--fill-color);\n",
              "      border-top-color: var(--fill-color);\n",
              "    }\n",
              "    60% {\n",
              "      border-color: transparent;\n",
              "      border-right-color: var(--fill-color);\n",
              "    }\n",
              "    80% {\n",
              "      border-color: transparent;\n",
              "      border-right-color: var(--fill-color);\n",
              "      border-bottom-color: var(--fill-color);\n",
              "    }\n",
              "    90% {\n",
              "      border-color: transparent;\n",
              "      border-bottom-color: var(--fill-color);\n",
              "    }\n",
              "  }\n",
              "</style>\n",
              "\n",
              "  <script>\n",
              "    async function quickchart(key) {\n",
              "      const quickchartButtonEl =\n",
              "        document.querySelector('#' + key + ' button');\n",
              "      quickchartButtonEl.disabled = true;  // To prevent multiple clicks.\n",
              "      quickchartButtonEl.classList.add('colab-df-spinner');\n",
              "      try {\n",
              "        const charts = await google.colab.kernel.invokeFunction(\n",
              "            'suggestCharts', [key], {});\n",
              "      } catch (error) {\n",
              "        console.error('Error during call to suggestCharts:', error);\n",
              "      }\n",
              "      quickchartButtonEl.classList.remove('colab-df-spinner');\n",
              "      quickchartButtonEl.classList.add('colab-df-quickchart-complete');\n",
              "    }\n",
              "    (() => {\n",
              "      let quickchartButtonEl =\n",
              "        document.querySelector('#df-6b75d4bd-8b5e-49df-a608-f401e142dedf button');\n",
              "      quickchartButtonEl.style.display =\n",
              "        google.colab.kernel.accessAllowed ? 'block' : 'none';\n",
              "    })();\n",
              "  </script>\n",
              "</div>\n",
              "\n",
              "    </div>\n",
              "  </div>\n"
            ]
          },
          "metadata": {},
          "execution_count": 75
        }
      ],
      "source": [
        "df_balanced.head()"
      ]
    },
    {
      "cell_type": "code",
      "execution_count": 76,
      "id": "65d3bb76",
      "metadata": {
        "colab": {
          "base_uri": "https://localhost:8080/"
        },
        "id": "65d3bb76",
        "outputId": "4d3da2e4-0cb2-4360-ec1d-ea5439762ed4"
      },
      "outputs": [
        {
          "output_type": "execute_result",
          "data": {
            "text/plain": [
              "(10370, 5)"
            ]
          },
          "metadata": {},
          "execution_count": 76
        }
      ],
      "source": [
        "df_balanced.shape"
      ]
    },
    {
      "cell_type": "code",
      "execution_count": 77,
      "id": "dde43b51",
      "metadata": {
        "colab": {
          "base_uri": "https://localhost:8080/"
        },
        "id": "dde43b51",
        "outputId": "55d0e16a-70b3-4eaa-f250-4054c7367ccd"
      },
      "outputs": [
        {
          "output_type": "execute_result",
          "data": {
            "text/plain": [
              "0    5185\n",
              "1    5185\n",
              "Name: success_indicator, dtype: int64"
            ]
          },
          "metadata": {},
          "execution_count": 77
        }
      ],
      "source": [
        "df_balanced['success_indicator'].value_counts()"
      ]
    },
    {
      "cell_type": "markdown",
      "id": "92713e3e",
      "metadata": {
        "id": "92713e3e"
      },
      "source": [
        "# Hence Our DATA is balanced with all values encoded in numbers which is prerequisite for the data required for model building"
      ]
    },
    {
      "cell_type": "code",
      "execution_count": 94,
      "id": "78053b2d",
      "metadata": {
        "id": "78053b2d"
      },
      "outputs": [],
      "source": [
        "df = df_balanced.drop('success_indicator', axis=1)\n"
      ]
    },
    {
      "cell_type": "code",
      "execution_count": 92,
      "id": "6f824776",
      "metadata": {
        "id": "6f824776"
      },
      "outputs": [],
      "source": [
        "df.to_csv('train_df.csv',index=False)"
      ]
    },
    {
      "cell_type": "code",
      "execution_count": null,
      "id": "90897a41",
      "metadata": {
        "id": "90897a41"
      },
      "outputs": [],
      "source": [
        "# train_df will be our engineered training data suitable for chosen model"
      ]
    },
    {
      "cell_type": "markdown",
      "id": "d4c4d768",
      "metadata": {
        "id": "d4c4d768"
      },
      "source": [
        "# Exploratory Data Analysis (EDA) Report:\n"
      ]
    },
    {
      "cell_type": "markdown",
      "id": "4ebfd123",
      "metadata": {
        "id": "4ebfd123"
      },
      "source": [
        "Dataset Overview:\n",
        "The dataset consists of 5 variables: 'item_no', 'Category', 'Color', 'main_promotion' and 'Success_Indicator'.\n",
        "\n",
        "Univariate Analysis: Key insights\n",
        "\n",
        "'item_no' :\n",
        "As 'item_no' feature having high variance or all values are unique we can drop this feature as it will not help us in\n",
        "predicting output\n",
        "\n",
        "'Category':\n",
        "There are 6 categories of product namely Tunic, Polo-Shirt, T-Shirt, Sweatshirt, Blouse, Hoodie.\n",
        "Here as features datatype is categorical we have to convert it into numerical datatype in feature engineering\n",
        "as our model understand numerical values only\n",
        "\n",
        "'main_promotion':\n",
        "Here for promotion of these product company used 4 mainways namely Category_Highlight, Catalog, Frontpage_Header,\n",
        "Display_Ad_Campaign\n",
        "\n",
        "'Color':\n",
        "Colors are represented by the labels 'Red', 'Blue', and 'Green' etc.\n",
        "The products are in 10 various colors , this features also we have to encode in numerical datatype\n",
        "\n",
        "'Success_Indicator':\n",
        "Success indicators are represented by the labels 'TOP' and 'FLOP'.\n",
        "The count of 'TOP' is 5185, and the count of 'FLOP' is 2815, Which significe data is imbalaced\n",
        " 'success_indicator' will be our target feature with categories flop and top , hence we have to build binary classification model such as (logistic regression , SVM classifier , decision tree , Ensemble models ets)\n",
        "\n",
        "\n",
        "\n",
        "\n",
        "\n",
        "\n",
        "\n",
        "\n",
        "\n",
        "\n",
        "Bivariate Analysis: Key insights\n",
        "\n",
        "Relationship between 'item_no' and 'Success_Indicator':\n",
        "There is no relation between 'item_no' and 'Success_Indicator' as 'item_no' is with high varience of data in it and hence\n",
        "we can look ahead of dropping it\n",
        "\n",
        "Relationship between 'Category' and 'Success_Indicator':\n",
        "Based on biivariate analysis we can observe the success indicator  of 'T-shirt' is huge among all categories which is good for buisness while  in relative sense polo-shirt went flop more compared to their sucess in market\n",
        "when category of product is Blouse then percent of success indicator = TOP will be 70.86%\n",
        "when category of product is Hoodie then percent of success indicator = TOP will be 65.08%\n",
        "when category of product is Polo-Shirt then percent of success indicator = TOP will be 47.15%\n",
        "when category of product is Sweatshirt then percent of success indicator = TOP will be 66.69%\n",
        "when category of product is T-Shirt then percent of success indicator = TOP will be 81.42%\n",
        "when category of product is Tunic then percent of success indicator = TOP will be 60.42%\n",
        "Hence as per this analysis launching T-shirt product  will be good for buisness as having  81% success rate\n",
        "\n",
        "\n",
        "Relationship between 'main_promotion' and 'Success_Indicator':\n",
        "here we can observe success rate is 57% for Catalog 61% Category_Highlight 74% Display_Ad_Campaign 70% Frontpage_Header Hence as per these bivariate analysis company should focus on Display_Ad_Campaign and Frontpage_Header promotions more and other two as less\n",
        "when main_promotion is via Catalog then percent of sucess indicator = TOP will be 57.56%\n",
        "when main_promotion is via Category_Highlight then percent of sucess indicator = TOP will be 61.75%\n",
        "when main_promotion is via Display_Ad_Campaign then percent of sucess indicator = TOP will be 74.40%\n",
        "when main_promotion is via Frontpage_Header then percent of sucess indicator = TOP will be 70.34%\n",
        "Hence as per this analysis launching product with Display_Ad_Campaign as main_promotion will be good for buisness as having\n",
        "74% success rate\n",
        "\n",
        "Relationship between 'color' and 'Success_Indicator':\n",
        "when product color is Black then percent of sucess indicator = TOP will be 76.72%\n",
        "when product color is Blue then percent of sucess indicator = TOP will be 73.31%\n",
        "when product color is Green then percent of sucess indicator = TOP will be 70.19%\n",
        "when product color is Multi-Color then percent of sucess indicator = TOP will be 50.93%\n",
        "when product color is Orange then percent of sucess indicator = TOP will be 67.90%\n",
        "when product color is Pink then percent of sucess indicator = TOP will be 78.88%\n",
        "when product color is red then percent of sucess indicator = TOP will be 46.26%\n",
        "when product color is White then percent of sucess indicator = TOP will be 74.71%\n",
        "when product color is Yellow then percent of sucess indicator = TOP will be 61.45%\n",
        "Hence as per this analysis launching product with pink, black and white will be good for buisness.\n",
        "\n",
        "Relationship between 'stars' and 'Success_Indicator':\n",
        "when product star rating 1 is i.e stars more than 3 then percent of sucess indicator = TOP will be 82.68 %\n",
        "when product star rating  is 0 i.e stars less than eqaual to 3 then percent of sucess indicator = TOP will be 30 %\n",
        "hence higher the rating will be good for preduct accepetance by customers"
      ]
    }
  ],
  "metadata": {
    "kernelspec": {
      "display_name": "Python 3 (ipykernel)",
      "language": "python",
      "name": "python3"
    },
    "language_info": {
      "codemirror_mode": {
        "name": "ipython",
        "version": 3
      },
      "file_extension": ".py",
      "mimetype": "text/x-python",
      "name": "python",
      "nbconvert_exporter": "python",
      "pygments_lexer": "ipython3",
      "version": "3.11.0"
    },
    "colab": {
      "provenance": []
    }
  },
  "nbformat": 4,
  "nbformat_minor": 5
}